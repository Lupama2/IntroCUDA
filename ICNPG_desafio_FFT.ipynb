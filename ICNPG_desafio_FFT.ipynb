{
  "nbformat": 4,
  "nbformat_minor": 0,
  "metadata": {
    "colab": {
      "provenance": [],
      "gpuType": "T4",
      "include_colab_link": true
    },
    "kernelspec": {
      "name": "python3",
      "display_name": "Python 3"
    },
    "language_info": {
      "name": "python"
    },
    "accelerator": "GPU",
    "gpuClass": "standard"
  },
  "cells": [
    {
      "cell_type": "markdown",
      "metadata": {
        "id": "view-in-github",
        "colab_type": "text"
      },
      "source": [
        "<a href=\"https://colab.research.google.com/github/Lupama2/IntroCUDA/blob/main/ICNPG_desafio_FFT.ipynb\" target=\"_parent\"><img src=\"https://colab.research.google.com/assets/colab-badge.svg\" alt=\"Open In Colab\"/></a>"
      ]
    },
    {
      "cell_type": "markdown",
      "source": [
        "# Desafío\n",
        "\n",
        "Se dispone del módulo y la fase de la transformada de Fourier de una imagen $I(k_x,k_y)$. Es decir, disponemos de $M(k_x,k_y)$ y de $\\phi(k_x,k_y)$ de tal forma que\n",
        "\n",
        "$I(k_x,k_y)=M(k_x,k_y)e^{i \\phi(k_x,k_y)}$\n",
        "\n",
        "Su misión es informar de que se trata la imagen en espacio real $I(x,y)$.\n",
        "\n",
        "\n",
        "La matriz $M(k_x,k_y)$ está en el archivo binario \"magnitude.bin\" y $\\phi(k_x,k_y)$ en \"phase.bin\", ambas son de $(720,1200)$ (numpy \"shape\"). Descargue ambos archivos de esta [carpeta](https://drive.google.com/drive/folders/1P9NE22nTgi-iL7Ar1cdodhSY6ZvErCx6?usp=sharing).\n",
        "\n",
        "\n"
      ],
      "metadata": {
        "id": "9v5D99jGmdKO"
      }
    },
    {
      "cell_type": "markdown",
      "source": [
        "Una vez descargados los binarios en el directorio raiz, podemos visualizar ambos arrays fácilmente usando numpy\n",
        "\n",
        "* Antes de continuar, descargar los binarios y ponerlos en el directorio raíz\n"
      ],
      "metadata": {
        "id": "5iEfIYQmJf_N"
      }
    },
    {
      "cell_type": "code",
      "source": [
        "import cv2\n",
        "import numpy as np\n",
        "from matplotlib import pyplot as plt\n",
        "\n",
        "pha = np.fromfile('phase.bin', dtype=np.float32)\n",
        "mag = np.fromfile('magnitude.bin', dtype=np.float32)\n",
        "\n",
        "shape=(720, 1200)\n",
        "\n",
        "pha = pha.reshape(shape)\n",
        "mag = mag.reshape(shape)\n",
        "\n",
        "plt.subplot(1,2,1), plt.imshow(np.log(mag), cmap='gray')\n",
        "plt.title('Power Spectrum'), plt.xticks([]), plt.yticks([])\n",
        "plt.subplot(1,2,2), plt.imshow(pha, cmap='gray')\n",
        "plt.title('Phase Spectrum'), plt.xticks([]), plt.yticks([])"
      ],
      "metadata": {
        "id": "oZDBonPxmaG4"
      },
      "execution_count": null,
      "outputs": []
    },
    {
      "cell_type": "markdown",
      "source": [
        "**Notar**\n",
        "* Las frecuencias fueron shifteadas para que el $(k_x,k_y)=(0,0)$ este en el centro.\n",
        "* Los datos descargados son float32."
      ],
      "metadata": {
        "id": "HUiJIKOuIyKB"
      }
    },
    {
      "cell_type": "markdown",
      "source": [
        "# Solución\n",
        "\n",
        "* Haciendo las operaciones convenientes, llenar el array de numpy \"image\" de abajo y visualizarlo con las funciones provistas en el template.\n",
        "\n",
        "* Usar cupy y numpy.\n",
        "\n",
        "* Comparar la performance haciendo los cálculos en CPU y en GPU respectivamente.\n",
        "\n",
        "\n",
        "* Comunicar el resultado a la cátedra."
      ],
      "metadata": {
        "id": "oJi4dfMFIRrt"
      }
    },
    {
      "cell_type": "code",
      "source": [
        "import time\n",
        "\n",
        "import cupy as cp\n",
        "import numpy as np\n",
        "\n",
        "image=np.empty(shape)\n",
        "\n",
        "\n",
        "# Solucion numpy ################################\n",
        "start_time = time.time()\n",
        "\n",
        "###\n",
        "#completar\n",
        "###\n",
        "\n",
        "elapsed_time = end_time - start_time\n",
        "plt.imshow(image, cmap='gray')\n",
        "plt.title('Si lo logró en numpy, ¡¡¡Felicitaciones!!!')\n",
        "plt.xticks([]), plt.yticks([])\n",
        "plt.show()\n",
        "print(f\"Elapsed time (numpy): {elapsed_time} seconds\")\n",
        "\n",
        "\n",
        "# Solucion cupy ################################\n",
        "start_time = time.time()\n",
        "\n",
        "###\n",
        "#completar\n",
        "###\n",
        "\n",
        "end_time = time.time()\n",
        "elapsed_time = end_time - start_time\n",
        "plt.imshow(image, cmap='gray')\n",
        "plt.title('Si lo logró en cupy, ¡¡¡Felicitaciones!!!')\n",
        "plt.xticks([]), plt.yticks([])\n",
        "plt.show()\n",
        "print(f\"Elapsed time (cupy): {elapsed_time} seconds\")\n",
        "\n"
      ],
      "metadata": {
        "id": "QlvXDKcmHx3N"
      },
      "execution_count": null,
      "outputs": []
    }
  ]
}