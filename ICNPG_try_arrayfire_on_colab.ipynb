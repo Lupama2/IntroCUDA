{
  "nbformat": 4,
  "nbformat_minor": 0,
  "metadata": {
    "colab": {
      "private_outputs": true,
      "provenance": [],
      "include_colab_link": true
    },
    "kernelspec": {
      "name": "python3",
      "display_name": "Python 3"
    },
    "language_info": {
      "name": "python"
    },
    "accelerator": "GPU"
  },
  "cells": [
    {
      "cell_type": "markdown",
      "metadata": {
        "id": "view-in-github",
        "colab_type": "text"
      },
      "source": [
        "<a href=\"https://colab.research.google.com/github/Lupama2/IntroCUDA/blob/main/ICNPG_try_arrayfire_on_colab.ipynb\" target=\"_parent\"><img src=\"https://colab.research.google.com/assets/colab-badge.svg\" alt=\"Open In Colab\"/></a>"
      ]
    },
    {
      "cell_type": "markdown",
      "source": [
        "\n",
        "\n",
        "#ArrayFire python"
      ],
      "metadata": {
        "id": "F-U7G-nJ-J6x"
      }
    },
    {
      "cell_type": "code",
      "metadata": {
        "id": "5zHbU-M--QiO"
      },
      "source": [
        "# This is a simple example of using arrayfire and benchmarking one of its\n",
        "# functions, \"pinverse.\" See https://arrayfire.org for more functions.\n",
        "\n",
        "# install arrayfire\n",
        "!pip install arrayfire==3.8.0+cu112 -f https://repo.arrayfire.com/python/wheels/3.8.0/\n"
      ],
      "execution_count": null,
      "outputs": []
    },
    {
      "cell_type": "code",
      "metadata": {
        "id": "dZoxBBT7_Ldu"
      },
      "source": [
        "# test installation success\n",
        "import arrayfire as af\n",
        "\n",
        "af.set_backend('cuda')    # we're on a solid gpu\n",
        "print(af.info_str())\n",
        "print(af.randu(3,3))      # matrix of random numbers on gpu"
      ],
      "execution_count": null,
      "outputs": []
    },
    {
      "cell_type": "code",
      "metadata": {
        "id": "2aApop2B-2Ev"
      },
      "source": [
        "# run something simple on GPU\n",
        "%%timeit\n",
        "A = af.randu(1000, 20)    # create some data in a 1000x20 matrix\n",
        "af.pinverse(A);           # psuedo inverse, modify to benchmark other functions\n",
        "af.sync()                 # execute code"
      ],
      "execution_count": null,
      "outputs": []
    },
    {
      "cell_type": "code",
      "metadata": {
        "id": "SUB656WMEihg"
      },
      "source": [
        "# arrayfire has multiple device options\n",
        "af.set_backend('cpu')     # switch to cpu"
      ],
      "execution_count": null,
      "outputs": []
    },
    {
      "cell_type": "code",
      "metadata": {
        "id": "9jaA59b7E07C"
      },
      "source": [
        "# run something simple on CPU\n",
        "%%timeit\n",
        "A = af.randu(1000, 20)    # create some data in a 1000x20 matrix\n",
        "af.pinverse(A);           # psuedo inverse, modify to benchmark other functions"
      ],
      "execution_count": null,
      "outputs": []
    },
    {
      "cell_type": "markdown",
      "source": [
        "# Modelo SIR en una red de poblaciones conectadas\n",
        "\n",
        "Se le llama también modelo metapoblacional.\n",
        "\n",
        "Vamos a simular un modelo para la evolución de la población susceptible $S$, infectada $I$ y recuperada $R$. Vamos a considerar $N$ poblaciones, descriptas por $S_i, I_i, R_i$ con $i=0,...,N-1$, cada una con la misma tasa de recuperación $\\beta$ pero distinta tasa de transmissión $\\beta_i$. Esta vez no van a ser independientes las poblaciones, sino que vamos a permitir que infectados viajen de una a otra población a un rate $A_{ij}$, con $A_{ii}=0$,\n",
        "\n",
        "$$\n",
        "\\begin{align}\n",
        "\\frac{dS_i}{dt} &= -\\beta_i S_i I_i \\\\\n",
        "\\frac{dI_i}{dt} &= \\beta_i S_i I_i - \\gamma I_i + \\sum_j A_{ij} I_j - I_i \\sum_j A_{ji} \\\\\n",
        "\\frac{dR_i}{dt} &= \\gamma I_i\n",
        "\\end{align}\n",
        "$$\n",
        "\n",
        "Son $3N$ ecuaciones acopladas, 3 por cada población.\n",
        "\n",
        "La resolución numérica más simple es por diferencias finitas, usando el esquema de Euler, con un paso de tiempo suficientemente chico $dt$. Si llamamos $S_i^n \\equiv S_i(n dt)$, y lo mismo para $I_i^n$, y $R_i^n$, tenemos\n",
        "\n",
        "$$\n",
        "\\begin{align}\n",
        "S_i^{n+1} &= S_i^n - dt\\; \\beta_i S_i^{n} I_i^n \\\\\n",
        "I_i^{n+1} &= I_i^n + dt\\; \\left[\\beta_i S_i^n I_i^n - \\gamma I_i^n\n",
        "+ \\sum_j A_{ij} I^n_j - I^n_i \\sum_j A_{ji} \\right]\n",
        "\\\\\n",
        "R_i^{n+1} &= R_i^n + dt\\; \\gamma I_i^n\n",
        "\\end{align}\n",
        "$$\n",
        "\n",
        "La idea básica es asignar a cada hilo el trabajo de avanzar un paso de Euler las tres variables de una población $i$. Antes necesitamos calcular el miembro derecho de las tres ecuaciones. Los hilos pueden calcular fácilmente los términos salvo los de conectividad que es un producto matrix-vector\n",
        "del tipo $\\sum_j A_{ij} I_j = {\\bf A}.{\\bf I}$ y $B_i = \\sum_j A_{ji}$\n",
        "o ${\\bf B}={\\bf A}^T.{\\bf v}$ donde ${\\bf v}$ es un vector con todos sus elementos igual a $1$.\n"
      ],
      "metadata": {
        "id": "SH7jFUKUCTzo"
      }
    },
    {
      "cell_type": "code",
      "source": [
        "%%writefile sirCupyDense.py\n",
        "#@title modelo SIR en red usando cupy dense\n",
        "\n",
        "import cupy as cp\n",
        "\n",
        "def simular(N,g,dt,k,filename):\n",
        "  # Declarar y Alocar memoria para los arrays de device S, I, R y beta usando CuPy\n",
        "  # ....\n",
        "  S = cp.zeros(N, dtype=cp.float32)\n",
        "  I = cp.zeros(N, dtype=cp.float32)\n",
        "  R = cp.zeros(N, dtype=cp.float32)\n",
        "  beta = cp.zeros(N, dtype=cp.float32)\n",
        "\n",
        "  cp.random.seed(1234)\n",
        "  A = cp.random.rand(N, N).astype(cp.float32)\n",
        "  cp.fill_diagonal(A,cp.float32(0))\n",
        "  A[A<0.7]=cp.float32(0) #matriz de conectividad rala\n",
        "\n",
        "  # aqui vamos a guardar las derivadas con respecto al tiempo (arrays auxiliares)\n",
        "  dSdt = cp.zeros(N, dtype=cp.float32)\n",
        "  dIdt = cp.zeros(N, dtype=cp.float32)\n",
        "  dRdt = cp.zeros(N, dtype=cp.float32)\n",
        "\n",
        "  # Inicializar S[i]=0.999, I[i]=0.001, R[i]=0, y beta[i]=0.02+i*0.02 usando CuPy\n",
        "  # ....\n",
        "  S.fill(cp.float32(1.000))\n",
        "  I.fill(cp.float32(0.000))\n",
        "  R.fill(cp.float32(0.000))\n",
        "  beta.fill(cp.float32(0.15))\n",
        "\n",
        "  # lo necesitamos para el termino de conectividad negativa\n",
        "  rA=cp.sum(A, axis=1)\n",
        "  #alternativa\n",
        "  #rA=cp.dot(A,cp.ones(N))\n",
        "\n",
        "\n",
        "  I[0]=cp.float32(0.001)\n",
        "  S[0]=cp.float32(0.999)\n",
        "\n",
        "  print(\"S=\",S, len(beta))\n",
        "  print(\"I=\",I, len(beta))\n",
        "  print(\"R=\",R, len(beta))\n",
        "  print(\"beta=\",beta, len(beta))\n",
        "\n",
        "  ntot = 5000\n",
        "\n",
        "  f = open(filename, \"w\")\n",
        "\n",
        "  # loop de tiempo\n",
        "  for p in range(ntot):\n",
        "      # imprimir I[] en columnas\n",
        "\n",
        "      cp.savetxt(f, I.reshape(1, -1), delimiter='\\t', fmt='%f')\n",
        "\n",
        "      # derivadas de S[],I[],R[]\n",
        "      dSdt = -beta*S*I\n",
        "      dIdt = -dSdt -g*I + k*cp.dot(A, I) - k*I*rA\n",
        "      dRdt = g*I\n",
        "\n",
        "      # paso de Euler\n",
        "      S = S+dSdt*dt\n",
        "      I = I+dIdt*dt\n",
        "      R = R+dRdt*dt\n",
        "\n",
        "\n",
        "N = 10 # nro de poblaciones\n",
        "g = 0.1  # tasa de recuperacion\n",
        "dt = 0.1  # paso de tiempo\n",
        "k=0.001 #conectividad\n",
        "\n",
        "simular(N,g,dt,k,\"data_con.csv\")\n",
        "simular(N,g,dt,cp.float32(0.0),\"data_sin.csv\")\n"
      ],
      "metadata": {
        "id": "ou6SeRJOVjKc"
      },
      "execution_count": null,
      "outputs": []
    },
    {
      "cell_type": "code",
      "source": [
        "!nvprof --openacc-profiling off python sirCupyDense.py"
      ],
      "metadata": {
        "id": "tyzXVvp9gsMT"
      },
      "execution_count": null,
      "outputs": []
    },
    {
      "cell_type": "code",
      "source": [
        "#@title visualicemos los tiempos (ask chatgpt: \"Plot 10 column csv file using Python\")\n",
        "import pandas as pd\n",
        "import matplotlib.pyplot as plt\n",
        "import numpy as np\n",
        "\n",
        "def dibujame(datafile):\n",
        "  # Read in the data from the CSV file\n",
        "  data1 = pd.read_csv(datafile, delimiter='\\t', header=None)\n",
        "\n",
        "  # Create an arange to use as the x-axis\n",
        "  x1 = np.arange(len(data1))\n",
        "\n",
        "  # Plot each column of data against the x-axis\n",
        "  for col in data1.columns:\n",
        "      plt.plot(x1, data1[col], label=col)\n",
        "\n",
        "  # Add a legend and labels for the axes\n",
        "  plt.legend()\n",
        "  plt.xlabel('tiempo')\n",
        "  plt.ylabel('Infectados')\n",
        "  plt.title(datafile)\n",
        "\n",
        "  # Show the plot\n",
        "  plt.tight_layout()\n",
        "  plt.show()"
      ],
      "metadata": {
        "id": "skJfdCf4VsCY"
      },
      "execution_count": null,
      "outputs": []
    },
    {
      "cell_type": "code",
      "source": [
        "dibujame(\"data_con.csv\")\n",
        "dibujame(\"data_sin.csv\")"
      ],
      "metadata": {
        "id": "BjktbFH_WxSL"
      },
      "execution_count": null,
      "outputs": []
    },
    {
      "cell_type": "code",
      "source": [
        "%%writefile sirCupySparse.py\n",
        "\n",
        "#@title modelo SIR en red usando cupy sparse\n",
        "\n",
        "import cupy as cp\n",
        "import cupyx\n",
        "from cupyx.scipy.sparse import csr_matrix\n",
        "\n",
        "\n",
        "def simular(N,g,dt,k,filename):\n",
        "  # Declarar y Alocar memoria para los arrays de device S, I, R y beta usando CuPy\n",
        "  # ....\n",
        "  S = cp.zeros(N, dtype=cp.float32)\n",
        "  I = cp.zeros(N, dtype=cp.float32)\n",
        "  R = cp.zeros(N, dtype=cp.float32)\n",
        "  beta = cp.zeros(N, dtype=cp.float32)\n",
        "\n",
        "  cp.random.seed(1234)\n",
        "  A = cp.random.rand(N, N).astype(cp.float32)\n",
        "  cp.fill_diagonal(A,cp.float32(0))\n",
        "  A[A<0.7]=cp.float32(0) #matriz de conectividad rala\n",
        "\n",
        "  sA = cupyx.scipy.sparse.csr_matrix(A)\n",
        "  print(\"non zero elements =\",sA.nnz)\n",
        "  print(\"conecctivity sparse =\",sA)\n",
        "  print(\"conecctivity dense =\",A)\n",
        "\n",
        "  # aqui vamos a guardar las derivadas con respecto al tiempo (arrays auxiliares)\n",
        "  dSdt = cp.zeros(N, dtype=cp.float32)\n",
        "  dIdt = cp.zeros(N, dtype=cp.float32)\n",
        "  dRdt = cp.zeros(N, dtype=cp.float32)\n",
        "\n",
        "  # Inicializar S[i]=0.999, I[i]=0.001, R[i]=0, y beta[i]=0.02+i*0.02 usando CuPy\n",
        "  # ....\n",
        "  S.fill(cp.float32(1.000))\n",
        "  I.fill(cp.float32(0.000))\n",
        "  R.fill(cp.float32(0.000))\n",
        "  beta.fill(cp.float32(0.15))\n",
        "\n",
        "  # lo necesitamos para el termino de conectividad negativa\n",
        "  rA=cp.sum(A, axis=1)\n",
        "\n",
        "\n",
        "  I[0]=cp.float32(0.001)\n",
        "  S[0]=cp.float32(0.999)\n",
        "\n",
        "  print(\"condiciones iniciales:\")\n",
        "  print(\"S=\",S, len(beta))\n",
        "  print(\"I=\",I, len(beta))\n",
        "  print(\"R=\",R, len(beta))\n",
        "  print(\"beta=\",beta, len(beta))\n",
        "\n",
        "  ntot = 5000\n",
        "\n",
        "  f = open(filename, \"w\")\n",
        "\n",
        "  # loop de tiempo\n",
        "  for p in range(ntot):\n",
        "      # imprimir I[] en columnas\n",
        "\n",
        "      cp.savetxt(f, I.reshape(1, -1), delimiter='\\t', fmt='%f')\n",
        "\n",
        "      # derivadas de S[],I[],R[]\n",
        "      dSdt = -beta*S*I\n",
        "      dIdt = -dSdt -g*I + k*sA*I - k*I*rA\n",
        "      dRdt = g*I\n",
        "\n",
        "      # paso de Euler\n",
        "      S = S+dSdt*dt\n",
        "      I = I+dIdt*dt\n",
        "      R = R+dRdt*dt\n",
        "\n",
        "\n",
        "N = 10 # nro de poblaciones\n",
        "g = 0.1  # tasa de recuperacion\n",
        "dt = 0.1  # paso de tiempo\n",
        "k=0.001 #conectividad\n",
        "\n",
        "simular(N,g,dt,k,\"data_con.csv\")\n",
        "#simular(N,g,dt,cp.float32(0.0),\"data_sin.csv\")\n"
      ],
      "metadata": {
        "id": "zsXwOPss-lYu"
      },
      "execution_count": null,
      "outputs": []
    },
    {
      "cell_type": "code",
      "source": [
        "!nvprof --openacc-profiling off python sirCupySparse.py"
      ],
      "metadata": {
        "id": "303OQklDhYPI"
      },
      "execution_count": null,
      "outputs": []
    },
    {
      "cell_type": "code",
      "source": [
        "!tail data_con.csv\n"
      ],
      "metadata": {
        "id": "OlJgxchXBxjy"
      },
      "execution_count": null,
      "outputs": []
    },
    {
      "cell_type": "code",
      "source": [
        "dibujame(\"data_con.csv\")\n"
      ],
      "metadata": {
        "id": "k3wOh6vx_Te8"
      },
      "execution_count": null,
      "outputs": []
    },
    {
      "cell_type": "code",
      "source": [
        "%%writefile sirAfSparse.py\n",
        "\n",
        "#@title modelo SIR en red usando arrayfire sparse\n",
        "\n",
        "import numpy as np\n",
        "import arrayfire as af\n",
        "\n",
        "\n",
        "def simular(N,g,dt,k,filename):\n",
        "  # Declarar y Alocar memoria para los arrays de device S, I, R y beta usando CuPy\n",
        "  # ....\n",
        "  nS = np.zeros(N, dtype=np.float32)\n",
        "  nI = np.zeros(N, dtype=np.float32)\n",
        "  nR = np.zeros(N, dtype=np.float32)\n",
        "  nbeta = np.zeros(N, dtype=np.float32)\n",
        "\n",
        "  np.random.seed(1234)\n",
        "  nA = np.random.rand(N, N).astype(np.float32)\n",
        "  np.fill_diagonal(nA,np.float32(0))\n",
        "  nA[nA<0.7]=np.float32(0) #matriz de conectividad rala\n",
        "\n",
        "  # aqui vamos a guardar las derivadas con respecto al tiempo (arrays auxiliares)\n",
        "  ndSdt = np.zeros(N, dtype=np.float32)\n",
        "  ndIdt = np.zeros(N, dtype=np.float32)\n",
        "  ndRdt = np.zeros(N, dtype=np.float32)\n",
        "\n",
        "  # Inicializar S[i]=0.999, I[i]=0.001, R[i]=0, y beta[i]=0.02+i*0.02 usando CuPy\n",
        "  # ....\n",
        "  nS.fill(np.float32(1.000))\n",
        "  nI.fill(np.float32(0.000))\n",
        "  nR.fill(np.float32(0.000))\n",
        "  nbeta.fill(np.float32(0.15))\n",
        "  nI[0]=np.float32(0.001)\n",
        "  nS[0]=np.float32(0.999)\n",
        "\n",
        "  # lo necesitamos para el termino de conectividad negativa\n",
        "  nrA=np.sum(nA, axis=1)\n",
        "  #rsA=sA.sum(axis=1)\n",
        "\n",
        "  S = af.from_ndarray(nS);\n",
        "  I = af.from_ndarray(nI);\n",
        "  R = af.from_ndarray(nR);\n",
        "  dSdt = af.from_ndarray(ndSdt)\n",
        "  dIdt = af.from_ndarray(ndIdt)\n",
        "  dRdt = af.from_ndarray(ndRdt)\n",
        "  beta = af.from_ndarray(nbeta)\n",
        "  A = af.from_ndarray(nA)\n",
        "  rA = af.from_ndarray(nrA)\n",
        "  sA = af.sparse.create_sparse_from_dense(A)\n",
        "\n",
        "\n",
        "  print(\"S=\",S, len(nbeta))\n",
        "  print(\"I=\",I, len(nbeta))\n",
        "  print(\"R=\",R, len(nbeta))\n",
        "  print(\"sA=\",sA, len(nbeta))\n",
        "  print(\"beta=\",beta, len(beta))\n",
        "\n",
        "  ntot = 5000\n",
        "\n",
        "  f = open(filename, \"w\")\n",
        "\n",
        "  # loop de tiempo\n",
        "  for p in range(ntot):\n",
        "      # imprimir I[] en columnas\n",
        "\n",
        "      nI = I.to_ndarray()\n",
        "      np.savetxt(f, nI.reshape(1, -1), delimiter='\\t', fmt='%f')\n",
        "\n",
        "      # derivadas de S[],I[],R[]\n",
        "      dSdt = -beta*S*I\n",
        "      #dIdt = -dSdt -g*I + k*sA*I - k*I*rA #este no lo entiendte como cupy\n",
        "      dIdt = -dSdt -g*I + k*af.matmul(sA, I) - k*I*rA\n",
        "      dRdt = g*I\n",
        "\n",
        "      # paso de Euler\n",
        "      S = S+dSdt*dt\n",
        "      I = I+dIdt*dt\n",
        "      R = R+dRdt*dt\n",
        "\n",
        "\n",
        "N = 10 # nro de poblaciones\n",
        "g = 0.1  # tasa de recuperacion\n",
        "dt = 0.1  # paso de tiempo\n",
        "k=0.001 #conectividad\n",
        "\n",
        "simular(N,g,dt,k,\"data_con_af.csv\")\n"
      ],
      "metadata": {
        "id": "pLqe9iq3EtqL"
      },
      "execution_count": null,
      "outputs": []
    },
    {
      "cell_type": "code",
      "source": [
        "!nvprof --openacc-profiling off python sirAfSparse.py"
      ],
      "metadata": {
        "id": "_eLnMhgJiAFw"
      },
      "execution_count": null,
      "outputs": []
    },
    {
      "cell_type": "code",
      "source": [
        "dibujame(\"data_con_af.csv\")\n"
      ],
      "metadata": {
        "id": "e8uqN9LwFhQ6"
      },
      "execution_count": null,
      "outputs": []
    },
    {
      "cell_type": "markdown",
      "source": [
        "Como notaran, no da igual que antes con cupy. Eso se debe a que cupy y numpy no generan los mismos números al azar con la misma semilla"
      ],
      "metadata": {
        "id": "_BDpzeEnZRb-"
      }
    },
    {
      "cell_type": "code",
      "source": [
        "# ojo: los generadores de numpy y cupy no generan los mismos numeros con la misma semilla\n",
        "import numpy as np\n",
        "import cupy as cp\n",
        "\n",
        "np.random.seed(1234)\n",
        "cp.random.seed(1234)\n",
        "\n",
        "print(np.random.rand(2, 2).astype(np.float32))\n",
        "print(cp.random.rand(2, 2).astype(cp.float32))"
      ],
      "metadata": {
        "id": "CUnfKYZdXkVM"
      },
      "execution_count": null,
      "outputs": []
    },
    {
      "cell_type": "code",
      "source": [
        "#@title Solo si les da un error relacionado a \"UTF...\" corran esto...\n",
        "import locale\n",
        "def getpreferredencoding(do_setlocale = True):\n",
        "    return \"UTF-8\"\n",
        "locale.getpreferredencoding = getpreferredencoding"
      ],
      "metadata": {
        "id": "UcBlaofpT5li"
      },
      "execution_count": null,
      "outputs": []
    }
  ]
}