{
  "cells": [
    {
      "attachments": {},
      "cell_type": "markdown",
      "metadata": {},
      "source": [
        "<a href=\"https://colab.research.google.com/github/Lupama2/IntroCUDA/blob/main/GoogleColab/ICNPG_SumaVectores.ipynb\" target=\"_parent\"><img src=\"https://colab.research.google.com/assets/colab-badge.svg\" alt=\"Open In Colab\"/></a>"
      ]
    },
    {
      "cell_type": "markdown",
      "metadata": {
        "id": "yUNXZjUOjUCR"
      },
      "source": [
        "# Análisis de performance de suma de vectores\n",
        "\n",
        "Vamos a comparar los tiempos de ejecución de la suma de vectores en CPU vs los de GPU teniendo en cuenta el tiempo de ejecución del kernel, y el tiempo total, incluyendo los tiempos de copia H2D y D2H.\n",
        "\n",
        "Usaremos solo el cronómetro para CPU, pero nos aseguraremos con CudaDeviceSynchronize() que la GPU haya terminado su trabajo."
      ]
    },
    {
      "cell_type": "code",
      "execution_count": 1,
      "metadata": {
        "colab": {
          "base_uri": "https://localhost:8080/"
        },
        "id": "E0bA7PBKAbrq",
        "outputId": "03c6e831-f467-4060-e090-ec76e093c1d8"
      },
      "outputs": [
        {
          "name": "stdout",
          "output_type": "stream",
          "text": [
            "Tue May  9 12:12:27 2023       \n",
            "+-----------------------------------------------------------------------------+\n",
            "| NVIDIA-SMI 525.85.12    Driver Version: 525.85.12    CUDA Version: 12.0     |\n",
            "|-------------------------------+----------------------+----------------------+\n",
            "| GPU  Name        Persistence-M| Bus-Id        Disp.A | Volatile Uncorr. ECC |\n",
            "| Fan  Temp  Perf  Pwr:Usage/Cap|         Memory-Usage | GPU-Util  Compute M. |\n",
            "|                               |                      |               MIG M. |\n",
            "|===============================+======================+======================|\n",
            "|   0  Tesla T4            Off  | 00000000:00:04.0 Off |                    0 |\n",
            "| N/A   68C    P8    11W /  70W |      0MiB / 15360MiB |      0%      Default |\n",
            "|                               |                      |                  N/A |\n",
            "+-------------------------------+----------------------+----------------------+\n",
            "                                                                               \n",
            "+-----------------------------------------------------------------------------+\n",
            "| Processes:                                                                  |\n",
            "|  GPU   GI   CI        PID   Type   Process name                  GPU Memory |\n",
            "|        ID   ID                                                   Usage      |\n",
            "|=============================================================================|\n",
            "|  No running processes found                                                 |\n",
            "+-----------------------------------------------------------------------------+\n"
          ]
        }
      ],
      "source": [
        "#@title Que GPU nos toco?\n",
        "\n",
        "!nvidia-smi"
      ]
    },
    {
      "cell_type": "code",
      "execution_count": null,
      "metadata": {
        "colab": {
          "base_uri": "https://localhost:8080/"
        },
        "id": "NX4HPp5yYV6S",
        "outputId": "e375e87d-c75f-4cfc-bc30-af076320a4c5"
      },
      "outputs": [
        {
          "name": "stdout",
          "output_type": "stream",
          "text": [
            "Writing cpu_timer.h\n"
          ]
        }
      ],
      "source": [
        "#@title Cronómetro para CPU\n",
        "\n",
        "%%writefile cpu_timer.h\n",
        "\n",
        "#include <ctime>\n",
        "\n",
        "// estructuras para el timer en CPU ////////////////////\n",
        "\n",
        "struct timespec diff(timespec start, timespec end)\n",
        "{\n",
        "        timespec temp;\n",
        "       \tif ((end.tv_nsec-start.tv_nsec)<0) {\n",
        "                temp.tv_sec = end.tv_sec-start.tv_sec-1;\n",
        "                temp.tv_nsec = 1000000000+end.tv_nsec-start.tv_nsec;\n",
        "        } else {\n",
        "                temp.tv_sec = end.tv_sec-start.tv_sec;\n",
        "                temp.tv_nsec = end.tv_nsec-start.tv_nsec;\n",
        "        }\n",
        "        return temp;\n",
        "}\n",
        "struct cpu_timer{\n",
        "        struct timespec time1, time2;\n",
        "\t      double ms_elapsed;\n",
        "\n",
        "        cpu_timer(){\n",
        "        \ttic();\n",
        "        }\n",
        "       ~cpu_timer(){}\n",
        "\n",
        "        void tic(){\n",
        "                clock_gettime(CLOCK_PROCESS_CPUTIME_ID, &time1);\n",
        "        }\n",
        "        double tac(){\n",
        "                clock_gettime(CLOCK_PROCESS_CPUTIME_ID, &time2);\n",
        "                return(ms_elapsed=elapsed());\n",
        "        }\n",
        "        double elapsed(){\n",
        "            return (double)diff(time1,time2).tv_sec*1000 + (double)diff(time1,time2).tv_nsec*0.000001;\n",
        "        }\n",
        "};\n"
      ]
    },
    {
      "cell_type": "code",
      "execution_count": null,
      "metadata": {
        "colab": {
          "base_uri": "https://localhost:8080/"
        },
        "id": "PW29O9WjV5pP",
        "outputId": "2ddf8f1a-8232-4e23-892c-347ecf41fb3b"
      },
      "outputs": [
        {
          "name": "stdout",
          "output_type": "stream",
          "text": [
            "Overwriting sumavec.cu\n"
          ]
        }
      ],
      "source": [
        "#@title Comparación de tiempos: [copias H2D y D2H + kernel] vs [kernel]\n",
        "\n",
        "%%writefile sumavec.cu\n",
        "\n",
        "#include <stdio.h>\n",
        "#include <assert.h>\n",
        "#include <stdlib.h>\n",
        "#include <fstream>\n",
        "#include \"cpu_timer.h\"\n",
        "\n",
        "#define SIZE\t1024\n",
        "\n",
        "// kernel\n",
        "__global__ void VectorAdd(int *a, int *b, int *c, int n)\n",
        "{\n",
        "\t// indice de thread mapeado a indice de array \n",
        "\tint i = blockIdx.x * blockDim.x + threadIdx.x;\n",
        "\tif (i < n)\n",
        "\t\tc[i] = a[i] + b[i];\n",
        "}\n",
        "\n",
        "\n",
        "// kernel\n",
        "void VectorAddCPU(int *a, int *b, int *c, int n)\n",
        "{\n",
        "\tfor(int i=0;i<n;i++){\n",
        "\t\tc[i] = a[i] + b[i];\n",
        "\t}\n",
        "}\n",
        "\n",
        "\n",
        "int main(int argc, char **argv)\n",
        "{\n",
        "\tint N;\n",
        "\t\n",
        "\tif(argc==2) N=atoi(argv[1]);\n",
        "\telse N=SIZE;\n",
        "\n",
        "\t// punteros a memoria de host\n",
        "\tint *a, *b, *c;\n",
        "\n",
        "\t// punteros a memoria de device\n",
        "\tint *d_a, *d_b, *d_c;\n",
        "\n",
        "\t// alocacion memoria de host\n",
        "\ta = (int *)malloc(N*sizeof(int));\n",
        "\tb = (int *)malloc(N*sizeof(int));\n",
        "\tc = (int *)malloc(N*sizeof(int));\n",
        "\n",
        "\t// alocacion memoria de device\n",
        "\tcudaMalloc( &d_a, N*sizeof(int));\n",
        "\tcudaMalloc( &d_b, N*sizeof(int));\n",
        "\tcudaMalloc( &d_c, N*sizeof(int));\n",
        "\n",
        "\t// inicializacion arrays de host\n",
        "\tfor( int i = 0; i < N; ++i )\n",
        "\t{\n",
        "\t\ta[i] = i;\n",
        "\t\tb[i] = i;\n",
        "\t\tc[i] = 0;\n",
        "\t}\n",
        "\n",
        "\t// cronometro 1\n",
        "\tcpu_timer Reloj1;\n",
        "\tReloj1.tic();\n",
        "\n",
        "\t// copia de host a device\n",
        "\tcudaMemcpy( d_a, a, N*sizeof(int), cudaMemcpyHostToDevice );\n",
        "\tcudaMemcpy( d_b, b, N*sizeof(int), cudaMemcpyHostToDevice );\n",
        "\n",
        "\n",
        "\t// grilla de threads suficientemente grande...\n",
        "\tdim3 nThreads(256);\n",
        "\tdim3 nBlocks((N + nThreads.x - 1) / nThreads.x);\n",
        "\t// suma paralela en el device\n",
        "\n",
        "\n",
        "\t// cronometro 2\n",
        "\tcpu_timer Reloj2;\n",
        "\tReloj2.tic();\n",
        "\n",
        "\tVectorAdd<<< nBlocks, nThreads >>>(d_a, d_b, d_c, N); // kernel\n",
        "\n",
        "  cudaDeviceSynchronize(); // espera a que termine el kernel (sync GPU-CPU)\n",
        "\n",
        "  double t2=Reloj2.tac(); // tiempo solo kernel\n",
        "\n",
        "\t// copia (solo del resultado) del device a host\n",
        "\tcudaMemcpy( c, d_c, N*sizeof(int), cudaMemcpyDeviceToHost );\n",
        "\n",
        "  double t1=Reloj1.tac(); // tiempo copias H2D, kernel, copia D2H\n",
        "\n",
        "\tcpu_timer Reloj3;\n",
        "\tReloj3.tic();\n",
        "\tVectorAddCPU(a,b,c,N);\n",
        "\tdouble t3=Reloj3.tac();\n",
        "\n",
        "\t// milisegundos transcurridos\n",
        "\tprintf(\"VectorAdd<<< %d, %d >>>, N= %d t1= %lf ms t2= %lf ms t3= %lf \\n\", nBlocks.x, nThreads.x, N, t1, t2, t3);\n",
        "\n",
        "  std::ofstream fout(\"tiempos.csv\",std::ios_base::app);\n",
        "  fout << N << \",\" << t1 << \",\" << t2 << \",\" << t3 << std::endl;\n",
        "\n",
        "\t// verificacion del resultado\n",
        "\tfor( int i = 0; i < N; ++i){\n",
        "\t\t//printf(\"c[%d] = %d\\n\", i, c[i]);\n",
        "\t\tassert(c[i]==2*i);\n",
        "\t}\n",
        "\n",
        "\t// liberacion memoria de host\n",
        "\tfree(a);\n",
        "\tfree(b);\n",
        "\tfree(c);\n",
        "\n",
        "\t// liberacion memoria de device\n",
        "\tcudaFree(d_a);\n",
        "\tcudaFree(d_b);\n",
        "\tcudaFree(d_c);\n",
        "\n",
        "\treturn 0;\n",
        "}\n"
      ]
    },
    {
      "cell_type": "code",
      "execution_count": null,
      "metadata": {
        "colab": {
          "base_uri": "https://localhost:8080/"
        },
        "id": "CrhrwJx7XJJ1",
        "outputId": "a47200fe-38b8-495f-a360-c9a9e203df2d"
      },
      "outputs": [
        {
          "name": "stdout",
          "output_type": "stream",
          "text": [
            "rm: cannot remove 'tiempos.csv': No such file or directory\n"
          ]
        }
      ],
      "source": [
        "#@title Borramos el archivo de tiempos viejos y compilamos\n",
        "\n",
        "!rm tiempos.csv; nvcc sumavec.cu -o sumavec"
      ]
    },
    {
      "cell_type": "code",
      "execution_count": null,
      "metadata": {
        "colab": {
          "base_uri": "https://localhost:8080/"
        },
        "id": "fbHyESM1Yykz",
        "outputId": "e76c25f5-c53e-437a-8e9e-8acdf1982a04"
      },
      "outputs": [
        {
          "name": "stdout",
          "output_type": "stream",
          "text": [
            "VectorAdd<<< 1, 256 >>>, N= 256 t1= 0.074001 ms t2= 0.027844 ms t3= 0.001260 \n",
            "VectorAdd<<< 2, 256 >>>, N= 512 t1= 0.067619 ms t2= 0.023217 ms t3= 0.001972 \n",
            "VectorAdd<<< 4, 256 >>>, N= 1024 t1= 0.076340 ms t2= 0.032965 ms t3= 0.003986 \n",
            "VectorAdd<<< 8, 256 >>>, N= 2048 t1= 0.069097 ms t2= 0.021322 ms t3= 0.007137 \n",
            "VectorAdd<<< 16, 256 >>>, N= 4096 t1= 0.079915 ms t2= 0.022995 ms t3= 0.013669 \n",
            "VectorAdd<<< 32, 256 >>>, N= 8192 t1= 0.096586 ms t2= 0.024730 ms t3= 0.025112 \n",
            "VectorAdd<<< 64, 256 >>>, N= 16384 t1= 0.139187 ms t2= 0.024579 ms t3= 0.050195 \n",
            "VectorAdd<<< 128, 256 >>>, N= 32768 t1= 0.193384 ms t2= 0.027209 ms t3= 0.097193 \n",
            "VectorAdd<<< 256, 256 >>>, N= 65536 t1= 0.284855 ms t2= 0.038962 ms t3= 0.207489 \n",
            "VectorAdd<<< 512, 256 >>>, N= 131072 t1= 0.517411 ms t2= 0.057029 ms t3= 0.443935 \n",
            "VectorAdd<<< 1024, 256 >>>, N= 262144 t1= 1.077789 ms t2= 0.108837 ms t3= 0.820227 \n",
            "VectorAdd<<< 2048, 256 >>>, N= 524288 t1= 1.651809 ms t2= 0.118496 ms t3= 1.750768 \n",
            "VectorAdd<<< 4096, 256 >>>, N= 1048576 t1= 2.968922 ms t2= 0.136094 ms t3= 3.340063 \n",
            "VectorAdd<<< 8192, 256 >>>, N= 2097152 t1= 5.800944 ms t2= 0.186010 ms t3= 7.688885 \n",
            "VectorAdd<<< 16384, 256 >>>, N= 4194304 t1= 12.067552 ms t2= 0.275358 ms t3= 13.091587 \n",
            "VectorAdd<<< 32768, 256 >>>, N= 8388608 t1= 22.583433 ms t2= 0.476540 ms t3= 26.950631 \n"
          ]
        }
      ],
      "source": [
        "#@title Ejecutamos el programa para muchos N \n",
        "\n",
        "#usamos comandos de shell para lanzar muchas veces el ejecutable\n",
        "\n",
        "!for((i=8;i<24;i++)); do N=$((2**$i)); ./sumavec $N; done"
      ]
    },
    {
      "cell_type": "code",
      "execution_count": null,
      "metadata": {
        "colab": {
          "base_uri": "https://localhost:8080/"
        },
        "id": "NcoNelSScQpn",
        "outputId": "493f7c9c-4674-42b5-88fd-c292cf2d7c81"
      },
      "outputs": [
        {
          "name": "stdout",
          "output_type": "stream",
          "text": [
            "VectorAdd<<< 2, 256 >>>, N= 257 t1= 0.070534 ms t2= 0.024503 ms t3= 0.001279 \n"
          ]
        }
      ],
      "source": [
        "!./sumavec 257"
      ]
    },
    {
      "cell_type": "code",
      "execution_count": null,
      "metadata": {
        "colab": {
          "base_uri": "https://localhost:8080/"
        },
        "id": "gdspX3KJxs8w",
        "outputId": "cb4ccb6c-b746-4dfa-aac3-ecea4076bcd1"
      },
      "outputs": [
        {
          "name": "stdout",
          "output_type": "stream",
          "text": [
            "256,0.074001,0.027844,0.00126\n",
            "512,0.067619,0.023217,0.001972\n",
            "1024,0.07634,0.032965,0.003986\n",
            "2048,0.069097,0.021322,0.007137\n",
            "4096,0.079915,0.022995,0.013669\n",
            "8192,0.096586,0.02473,0.025112\n",
            "16384,0.139187,0.024579,0.050195\n",
            "32768,0.193384,0.027209,0.097193\n",
            "65536,0.284855,0.038962,0.207489\n",
            "131072,0.517411,0.057029,0.443935\n",
            "262144,1.07779,0.108837,0.820227\n",
            "524288,1.65181,0.118496,1.75077\n",
            "1048576,2.96892,0.136094,3.34006\n",
            "2097152,5.80094,0.18601,7.68888\n",
            "4194304,12.0676,0.275358,13.0916\n",
            "8388608,22.5834,0.47654,26.9506\n"
          ]
        }
      ],
      "source": [
        "#@title verifiquemos que el file de datos este bien\n",
        "\n",
        "!cat tiempos.csv"
      ]
    },
    {
      "cell_type": "code",
      "execution_count": null,
      "metadata": {
        "colab": {
          "base_uri": "https://localhost:8080/",
          "height": 469
        },
        "id": "Q--SZc7gb_Wk",
        "outputId": "aeb87584-8d65-47f0-d122-ad440513ee1e"
      },
      "outputs": [
        {
          "data": {
            "image/png": "[encoded data removed]",
            "text/plain": [
              "<Figure size 1000x500 with 2 Axes>"
            ]
          },
          "metadata": {},
          "output_type": "display_data"
        }
      ],
      "source": [
        "#@title Graficos de lso 3 tiempos y aceleracion \n",
        "\n",
        "import matplotlib.pyplot as plt\n",
        "import pandas as pd\n",
        "\n",
        "# Read the data from file\n",
        "data = pd.read_csv('tiempos.csv', header=None)\n",
        "\n",
        "# Set the x-axis and y-axis values\n",
        "x = data.iloc[:, 0]  # assuming the first column is x\n",
        "y1 = data.iloc[:, 1]  # assuming the second column is y1\n",
        "y2 = data.iloc[:, 2]  # assuming the third column is y2\n",
        "y3 = data.iloc[:, 3]  # assuming the third column is y3\n",
        "\n",
        "fig, (ax1, ax2) = plt.subplots(1, 2, figsize=(10, 5))\n",
        "\n",
        "# Plot the data\n",
        "ax1.loglog(x, y1, \"-o\", label='GPU: D2H+Kernel+H2D')\n",
        "ax1.loglog(x, y2, \"-o\", label='GPU: Kernel de Suma')\n",
        "ax1.loglog(x, y3, \"-o\", label='CPU: Suma')\n",
        "\n",
        "ax2.loglog(x, y3/y1, \"-o\", label='GPU: D2H+Kernel+H2D')\n",
        "ax2.loglog(x, y3/y2, \"-o\", label='GPU: Kernel de Suma')\n",
        "ax2.loglog(x, y3/y3, \"-o\", label='CPU: Suma')\n",
        "\n",
        "\n",
        "\n",
        "# Add labels and title\n",
        "ax1.set_xlabel('N')\n",
        "ax1.set_ylabel('tiempos')\n",
        "ax2.set_xlabel('N')\n",
        "ax2.set_ylabel('tiempoCPU/tiempoGPU')\n",
        "#plt.title('')\n",
        "\n",
        "# Add legend\n",
        "plt.legend()\n",
        "\n",
        "# Display the plot\n",
        "plt.show()"
      ]
    },
    {
      "cell_type": "code",
      "execution_count": null,
      "metadata": {
        "id": "y2dDB6VfjPzu"
      },
      "outputs": [],
      "source": []
    }
  ],
  "metadata": {
    "accelerator": "GPU",
    "colab": {
      "provenance": []
    },
    "gpuClass": "standard",
    "kernelspec": {
      "display_name": "Python 3",
      "name": "python3"
    },
    "language_info": {
      "name": "python"
    }
  },
  "nbformat": 4,
  "nbformat_minor": 0
}
