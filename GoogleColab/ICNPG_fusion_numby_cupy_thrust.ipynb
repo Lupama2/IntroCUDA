{
  "cells": [
    {
      "attachments": {},
      "cell_type": "markdown",
      "metadata": {},
      "source": [
        "<a href=\"https://colab.research.google.com/github/Lupama2/IntroCUDA/blob/main/GoogleColab/ICNPG_fusion_numby_cupy_thrust.ipynb\" target=\"_parent\"><img src=\"https://colab.research.google.com/assets/colab-badge.svg\" alt=\"Open In Colab\"/></a>"
      ]
    },
    {
      "cell_type": "code",
      "execution_count": null,
      "metadata": {
        "colab": {
          "base_uri": "https://localhost:8080/",
          "height": 39
        },
        "id": "g6HXDOSw3hc-",
        "outputId": "c7c5e237-e9ee-4dee-98bd-ba9c6caecc48",
        "vscode": {
          "languageId": "python"
        }
      },
      "outputs": [
        {
          "data": {
            "text/html": [
              "<marquee style='width: 100%; color: blue;'><b>ICNPG2023 en Google Colaboratory-Instituto Balseiro</b></marquee>\n"
            ],
            "text/plain": [
              "<IPython.core.display.HTML object>"
            ]
          },
          "metadata": {},
          "output_type": "display_data"
        }
      ],
      "source": [
        "%%html\n",
        "<marquee style='width: 100%; color: blue;'><b>ICNPG2023 en Google Colaboratory-Instituto Balseiro</b></marquee>\n"
      ]
    },
    {
      "cell_type": "code",
      "execution_count": null,
      "metadata": {
        "id": "XDUDYDn5HiLG",
        "vscode": {
          "languageId": "python"
        }
      },
      "outputs": [],
      "source": [
        "#@title si sale un error sobre UTF, probablemente se arregle corriendo esto\n",
        "import locale\n",
        "def getpreferredencoding(do_setlocale = True):\n",
        "    return \"UTF-8\"\n",
        "locale.getpreferredencoding = getpreferredencoding"
      ]
    },
    {
      "cell_type": "markdown",
      "metadata": {
        "id": "snj3bwGx_z-c"
      },
      "source": [
        "miremos que version de nvcc tenemos"
      ]
    },
    {
      "cell_type": "code",
      "execution_count": null,
      "metadata": {
        "colab": {
          "base_uri": "https://localhost:8080/"
        },
        "id": "GzIRSGebudXT",
        "outputId": "6514f74e-1b51-4401-bf1b-8fd919cd4f12",
        "vscode": {
          "languageId": "python"
        }
      },
      "outputs": [
        {
          "name": "stdout",
          "output_type": "stream",
          "text": [
            "nvcc: NVIDIA (R) Cuda compiler driver\n",
            "Copyright (c) 2005-2022 NVIDIA Corporation\n",
            "Built on Wed_Sep_21_10:33:58_PDT_2022\n",
            "Cuda compilation tools, release 11.8, V11.8.89\n",
            "Build cuda_11.8.r11.8/compiler.31833905_0\n"
          ]
        }
      ],
      "source": [
        "!nvcc --version"
      ]
    },
    {
      "cell_type": "markdown",
      "metadata": {
        "id": "hjdc7qaxACgq"
      },
      "source": [
        "A ver que placa nos toco..."
      ]
    },
    {
      "cell_type": "code",
      "execution_count": null,
      "metadata": {
        "colab": {
          "base_uri": "https://localhost:8080/"
        },
        "id": "hAOT_KANAFS6",
        "outputId": "7f1f28a6-2a98-404e-8245-514490151d67",
        "vscode": {
          "languageId": "python"
        }
      },
      "outputs": [
        {
          "name": "stdout",
          "output_type": "stream",
          "text": [
            "Fri Apr 28 17:05:24 2023       \n",
            "+-----------------------------------------------------------------------------+\n",
            "| NVIDIA-SMI 525.85.12    Driver Version: 525.85.12    CUDA Version: 12.0     |\n",
            "|-------------------------------+----------------------+----------------------+\n",
            "| GPU  Name        Persistence-M| Bus-Id        Disp.A | Volatile Uncorr. ECC |\n",
            "| Fan  Temp  Perf  Pwr:Usage/Cap|         Memory-Usage | GPU-Util  Compute M. |\n",
            "|                               |                      |               MIG M. |\n",
            "|===============================+======================+======================|\n",
            "|   0  Tesla T4            Off  | 00000000:00:04.0 Off |                    0 |\n",
            "| N/A   70C    P8    11W /  70W |      0MiB / 15360MiB |      0%      Default |\n",
            "|                               |                      |                  N/A |\n",
            "+-------------------------------+----------------------+----------------------+\n",
            "                                                                               \n",
            "+-----------------------------------------------------------------------------+\n",
            "| Processes:                                                                  |\n",
            "|  GPU   GI   CI        PID   Type   Process name                  GPU Memory |\n",
            "|        ID   ID                                                   Usage      |\n",
            "|=============================================================================|\n",
            "|  No running processes found                                                 |\n",
            "+-----------------------------------------------------------------------------+\n"
          ]
        }
      ],
      "source": [
        "!nvidia-smi"
      ]
    },
    {
      "cell_type": "markdown",
      "metadata": {
        "id": "XlA5pom39OZ6"
      },
      "source": [
        "# Experimentos con distintos frameworks\n",
        "\n"
      ]
    },
    {
      "cell_type": "markdown",
      "metadata": {
        "id": "AQAIIAlOJej6"
      },
      "source": [
        "Sean dos vectores $x$ e $y$, queremos calcular\n",
        "\n",
        "$$S=\\frac{\\sum_{i=0}^n  (x_i+y_i)}{\\sqrt{\\sum_{i=0}^n (x_i+y_i)^2}}=\\frac{\\sum_{i=0}^n  z_i}{\\sqrt{\\sum_{i=0}^n z_i^2}}$$"
      ]
    },
    {
      "cell_type": "code",
      "execution_count": null,
      "metadata": {
        "colab": {
          "base_uri": "https://localhost:8080/"
        },
        "id": "njdSN0WiR5YQ",
        "outputId": "8d3e088a-733e-4fb2-e661-8c2f030372c7",
        "vscode": {
          "languageId": "python"
        }
      },
      "outputs": [
        {
          "name": "stdout",
          "output_type": "stream",
          "text": [
            "Result: 3161.5037\n",
            "Time taken: 21635.53237915039 us\n"
          ]
        }
      ],
      "source": [
        "#@title numpy\n",
        "import numpy as np\n",
        "import time\n",
        "\n",
        "n = 10000000\n",
        "\n",
        "# create x and y vectors\n",
        "x = np.arange(1, n+1, dtype=np.float32)\n",
        "y = np.arange(n, 0, -1, dtype=np.float32)\n",
        "\n",
        "start_time = time.time()\n",
        "\n",
        "# create z vector\n",
        "z = x + y\n",
        "\n",
        "# normalize z by its Euclidean norm\n",
        "norm = np.linalg.norm(z)\n",
        "#z_norm = z / norm\n",
        "\n",
        "# sum the elements of the final result\n",
        "result = np.sum(z)/norm\n",
        "\n",
        "# print the result and the time taken\n",
        "print(\"Result:\", result)\n",
        "print(\"Time taken:\", (time.time() - start_time) * 1000000, \"us\")\n",
        "\n",
        "tnumpy = (time.time() - start_time) * 1000000\n",
        "#print(x,y,z,z_norm)"
      ]
    },
    {
      "cell_type": "code",
      "execution_count": null,
      "metadata": {
        "colab": {
          "base_uri": "https://localhost:8080/"
        },
        "id": "JmiePL4lEwiO",
        "outputId": "b546173f-3cbc-4fe3-d1f9-10e1535abcf6",
        "vscode": {
          "languageId": "python"
        }
      },
      "outputs": [
        {
          "name": "stdout",
          "output_type": "stream",
          "text": [
            "Result: 3162.2773\n",
            "Time taken: 2326.7269134521484 us\n"
          ]
        }
      ],
      "source": [
        "#@title cupy (solo cambiar np->cp !!!)\n",
        "import cupy as cp\n",
        "import time\n",
        "\n",
        "n = 10000000\n",
        "\n",
        "# create x and y vectors\n",
        "x = cp.arange(1, n+1, dtype=cp.float32)\n",
        "y = cp.arange(n, 0, -1, dtype=cp.float32)\n",
        "#z = cp.arange(n, 0, -1, dtype=cp.float32)\n",
        "z= cp.empty(x.shape, dtype=cp.float32)\n",
        "\n",
        "start_time = time.time()\n",
        "\n",
        "# create z vector\n",
        "z = x + y\n",
        "\n",
        "# normalize z by its Euclidean norm\n",
        "norm = cp.linalg.norm(z)\n",
        "#z_norm = z / norm\n",
        "\n",
        "# sum the elements of the final result\n",
        "result = cp.sum(z)/norm\n",
        "\n",
        "# print the result and the time taken\n",
        "print(\"Result:\", result)\n",
        "cp.cuda.Stream.null.synchronize()\n",
        "print(\"Time taken:\", (time.time() - start_time) * 1000000, \"us\")\n",
        "\n",
        "tcupy = (time.time() - start_time) * 1000000\n",
        "\n",
        "#print(x,y,z,z_norm)"
      ]
    },
    {
      "cell_type": "code",
      "execution_count": null,
      "metadata": {
        "colab": {
          "base_uri": "https://localhost:8080/"
        },
        "id": "43fZ2abYGqQt",
        "outputId": "1a3764a2-b830-4022-b26c-d0621c30be30",
        "vscode": {
          "languageId": "python"
        }
      },
      "outputs": [
        {
          "name": "stdout",
          "output_type": "stream",
          "text": [
            "Writing exp.cu\n"
          ]
        }
      ],
      "source": [
        "#@title thrust\n",
        "%%writefile exp.cu\n",
        "#include <thrust/device_vector.h>\n",
        "#include <thrust/transform_reduce.h>\n",
        "#include <thrust/reduce.h>\n",
        "#include <thrust/iterator/counting_iterator.h>\n",
        "#include <thrust/functional.h>\n",
        "#include <thrust/execution_policy.h>\n",
        "#include <cmath>\n",
        "#include <iostream>\n",
        "#include <chrono>\n",
        "\n",
        "int main()\n",
        "{\n",
        "    int n = 10000000;\n",
        "\n",
        "    // create x and y vectors\n",
        "    thrust::device_vector<float> x(n);\n",
        "    thrust::device_vector<float> y(n);\n",
        "    thrust::sequence(x.begin(), x.end(), 1.f);\n",
        "    thrust::sequence(y.rbegin(), y.rend(), 1.f);\n",
        "\n",
        "    // create z vector\n",
        "    thrust::device_vector<float> z(n);\n",
        "\n",
        "    auto start_time = std::chrono::high_resolution_clock::now();\n",
        "\n",
        "    // initialize z = x + y\n",
        "    thrust::transform(thrust::device, x.begin(), x.end(), y.begin(), z.begin(), thrust::plus<float>());\n",
        "\n",
        "/*\n",
        "    thrust::transform(thrust::device, x.begin(), x.end(), y.begin(), z.begin(), [=]__device__ (float a,float b){return a+b;});\n",
        "\n",
        "    using namespace thrust::placeholders;\n",
        "    thrust::transform(thrust::device, x.begin(), x.end(), y.begin(), z.begin(), _1+_2);\n",
        "*/\n",
        "\n",
        "    // normalize z by its Euclidean norm (transform and reduce fused)\n",
        "    float norm = std::sqrt(thrust::transform_reduce(thrust::device, z.begin(), z.end(), thrust::square<float>(), 0.f, thrust::plus<float>()));\n",
        "\n",
        "    // sum the elements of the final result\n",
        "    float result = thrust::reduce(thrust::device, z.begin(), z.end(), 0.f, thrust::plus<float>())/norm;\n",
        "\n",
        "    // print the result and the time taken\n",
        "    std::cout << \"Result: \" << result << std::endl;\n",
        "\n",
        "    cudaDeviceSynchronize();\n",
        "    auto end_time = std::chrono::high_resolution_clock::now();\n",
        "\n",
        "    auto time_taken = std::chrono::duration_cast<std::chrono::microseconds>(end_time - start_time).count();\n",
        "    std::cout << \"Time taken: \" << time_taken << \" us\" << std::endl;\n",
        "\n",
        "    return 0;\n",
        "}\n"
      ]
    },
    {
      "cell_type": "code",
      "execution_count": null,
      "metadata": {
        "colab": {
          "base_uri": "https://localhost:8080/"
        },
        "id": "assZ-vA2HQNT",
        "outputId": "2db5ab66-21e0-47c9-dccb-323f7cc7d737",
        "vscode": {
          "languageId": "python"
        }
      },
      "outputs": [
        {
          "name": "stdout",
          "output_type": "stream",
          "text": [
            "Result: 3162.28\n",
            "Time taken: 1301 us\n"
          ]
        }
      ],
      "source": [
        "!nvcc exp.cu; ./a.out"
      ]
    },
    {
      "cell_type": "code",
      "execution_count": null,
      "metadata": {
        "colab": {
          "base_uri": "https://localhost:8080/"
        },
        "id": "6aoc_0QqJXmf",
        "outputId": "7eb7b238-1151-4a65-c79e-2aa9e758b753",
        "vscode": {
          "languageId": "python"
        }
      },
      "outputs": [
        {
          "name": "stdout",
          "output_type": "stream",
          "text": [
            "Writing exp2.cu\n"
          ]
        }
      ],
      "source": [
        "#@title thrust optimized\n",
        "%%writefile exp2.cu\n",
        "#include <thrust/device_vector.h>\n",
        "#include <thrust/transform_reduce.h>\n",
        "#include <thrust/reduce.h>\n",
        "#include <thrust/iterator/counting_iterator.h>\n",
        "#include <thrust/iterator/zip_iterator.h>\n",
        "#include <thrust/functional.h>\n",
        "#include <thrust/execution_policy.h>\n",
        "#include <thrust/tuple.h>\n",
        "#include <cmath>\n",
        "#include <iostream>\n",
        "#include <chrono>\n",
        "\n",
        "int main()\n",
        "{\n",
        "    int n = 10000000;\n",
        "    //n=4; \n",
        "\n",
        "    // create x and y vectors\n",
        "    thrust::device_vector<float> x(n);\n",
        "    thrust::device_vector<float> y(n);\n",
        "    thrust::sequence(x.begin(), x.end(), 1.f);\n",
        "    thrust::sequence(y.rbegin(), y.rend(), 1.f);\n",
        "\n",
        "    auto start_time = std::chrono::high_resolution_clock::now();\n",
        "\n",
        "    auto ambos = \n",
        "    thrust::transform_reduce(thrust::device, \n",
        "      thrust::make_zip_iterator(\n",
        "        thrust::make_tuple(x.begin(),y.begin())\n",
        "      ),\n",
        "      thrust::make_zip_iterator(\n",
        "        thrust::make_tuple(x.end(),y.end())\n",
        "      ),\n",
        "      [=] __device__ (auto tup)\n",
        "      {\n",
        "          float x=thrust::get<0>(tup);\n",
        "          float y=thrust::get<1>(tup);\n",
        "          return \n",
        "          thrust::make_tuple(\n",
        "            x+y, \n",
        "            (x+y)*(x+y)\n",
        "          );\n",
        "      },\n",
        "      thrust::make_tuple(0.f,0.f),\n",
        "      [=] __device__ (auto tup1, auto tup2)\n",
        "      {\n",
        "          return \n",
        "          thrust::make_tuple(\n",
        "            thrust::get<0>(tup1)+thrust::get<0>(tup2),\n",
        "            thrust::get<1>(tup1)+thrust::get<1>(tup2)\n",
        "          );\n",
        "      }\n",
        "    );\n",
        "\n",
        "    float numerador=thrust::get<0>(ambos);\n",
        "    float denominador=thrust::get<1>(ambos);\n",
        "\n",
        "    float result=numerador/sqrt(denominador);\n",
        "\n",
        "    // print the result and the time taken\n",
        "    std::cout << \"Result: \" << result << std::endl;\n",
        "\n",
        "    cudaDeviceSynchronize();\n",
        "    auto end_time = std::chrono::high_resolution_clock::now();\n",
        "\n",
        "    auto time_taken = std::chrono::duration_cast<std::chrono::microseconds>(end_time - start_time).count();\n",
        "    std::cout << \"Time taken: \" << time_taken << \" us\" << std::endl;\n",
        "\n",
        "    return 0;\n",
        "}\n"
      ]
    },
    {
      "cell_type": "code",
      "execution_count": null,
      "metadata": {
        "colab": {
          "base_uri": "https://localhost:8080/"
        },
        "id": "uEfO1lvzMpQV",
        "outputId": "80bc61f1-ae64-4dbe-9eee-ce9225206ebb",
        "vscode": {
          "languageId": "python"
        }
      },
      "outputs": [
        {
          "name": "stdout",
          "output_type": "stream",
          "text": [
            "Result: 3162.28\n",
            "Time taken: 675 us\n"
          ]
        }
      ],
      "source": [
        "!nvcc exp2.cu --extended-lambda; ./a.out"
      ]
    },
    {
      "cell_type": "code",
      "execution_count": null,
      "metadata": {
        "colab": {
          "base_uri": "https://localhost:8080/"
        },
        "id": "AQQrWdstTf4n",
        "outputId": "e822dc47-a6d5-4088-ea55-ae106ae31f66",
        "vscode": {
          "languageId": "python"
        }
      },
      "outputs": [
        {
          "name": "stdout",
          "output_type": "stream",
          "text": [
            "aceleracion thrust optimized vs thrust = 1.9954614220877458\n",
            "aceleracion thrust optimized vs cupy = 5.015446811508664\n",
            "aceleracion thrust optimized vs numpy = 34.45491127094956\n",
            "aceleracion thrust vs cupy = 2.5134270981101037\n",
            "aceleracion cupy vs numpy = 6.869759079467817\n"
          ]
        }
      ],
      "source": [
        "print(\"aceleracion thrust optimized vs thrust =\", 1319/661)\n",
        "print(\"aceleracion thrust optimized vs cupy =\", tcupy/661)\n",
        "print(\"aceleracion thrust optimized vs numpy =\", tnumpy/661)\n",
        "print(\"aceleracion thrust vs cupy =\", tcupy/1319)\n",
        "print(\"aceleracion cupy vs numpy =\", tnumpy/tcupy)"
      ]
    },
    {
      "cell_type": "code",
      "execution_count": null,
      "metadata": {
        "id": "yp_9HNFAT6qb",
        "vscode": {
          "languageId": "python"
        }
      },
      "outputs": [],
      "source": []
    }
  ],
  "metadata": {
    "accelerator": "GPU",
    "colab": {
      "provenance": [],
      "toc_visible": true
    },
    "kernelspec": {
      "display_name": "Python 3",
      "name": "python3"
    }
  },
  "nbformat": 4,
  "nbformat_minor": 0
}
