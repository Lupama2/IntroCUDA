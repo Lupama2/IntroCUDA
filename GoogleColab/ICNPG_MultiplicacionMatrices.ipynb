{
  "nbformat": 4,
  "nbformat_minor": 0,
  "metadata": {
    "colab": {
      "provenance": [],
      "include_colab_link": true
    },
    "kernelspec": {
      "name": "python3",
      "display_name": "Python 3"
    },
    "language_info": {
      "name": "python"
    },
    "gpuClass": "standard",
    "accelerator": "GPU"
  },
  "cells": [
    {
      "cell_type": "markdown",
      "metadata": {
        "id": "view-in-github",
        "colab_type": "text"
      },
      "source": [
        "<a href=\"https://colab.research.google.com/github/Lupama2/IntroCUDA/blob/main/GoogleColab/ICNPG_MultiplicacionMatrices.ipynb\" target=\"_parent\"><img src=\"https://colab.research.google.com/assets/colab-badge.svg\" alt=\"Open In Colab\"/></a>"
      ]
    },
    {
      "cell_type": "markdown",
      "source": [
        "#Multiplicación de Matrices en CUDA\n",
        "\n",
        "El siguiente código compara performances de multiplicación de dos matrices\n",
        "\n",
        "$$C_{ij}=\\sum_{k=1}^N A_{ik} B_{kj}$$\n",
        "\n",
        "usando algoritmos simples en CPU y GPU, y llamadas a rutinas de cuBLAS.  "
      ],
      "metadata": {
        "id": "dPAdc2ZZECNk"
      }
    },
    {
      "cell_type": "code",
      "source": [
        "#@title a veces hace falta correr esto al empezar...\n",
        "import locale\n",
        "def getpreferredencoding(do_setlocale = True):\n",
        "    return \"UTF-8\"\n",
        "locale.getpreferredencoding = getpreferredencoding"
      ],
      "metadata": {
        "id": "C7eakkFM1Uof"
      },
      "execution_count": null,
      "outputs": []
    },
    {
      "cell_type": "code",
      "source": [
        "!nvidia-smi"
      ],
      "metadata": {
        "colab": {
          "base_uri": "https://localhost:8080/"
        },
        "id": "Pk6ejqZb1IOf",
        "outputId": "99c34a4e-108a-4dd2-b6e3-c8c0c8097585"
      },
      "execution_count": null,
      "outputs": [
        {
          "output_type": "stream",
          "name": "stdout",
          "text": [
            "Mon Apr 24 01:24:59 2023       \n",
            "+-----------------------------------------------------------------------------+\n",
            "| NVIDIA-SMI 525.85.12    Driver Version: 525.85.12    CUDA Version: 12.0     |\n",
            "|-------------------------------+----------------------+----------------------+\n",
            "| GPU  Name        Persistence-M| Bus-Id        Disp.A | Volatile Uncorr. ECC |\n",
            "| Fan  Temp  Perf  Pwr:Usage/Cap|         Memory-Usage | GPU-Util  Compute M. |\n",
            "|                               |                      |               MIG M. |\n",
            "|===============================+======================+======================|\n",
            "|   0  Tesla T4            Off  | 00000000:00:04.0 Off |                    0 |\n",
            "| N/A   55C    P8    10W /  70W |      0MiB / 15360MiB |      0%      Default |\n",
            "|                               |                      |                  N/A |\n",
            "+-------------------------------+----------------------+----------------------+\n",
            "                                                                               \n",
            "+-----------------------------------------------------------------------------+\n",
            "| Processes:                                                                  |\n",
            "|  GPU   GI   CI        PID   Type   Process name                  GPU Memory |\n",
            "|        ID   ID                                                   Usage      |\n",
            "|=============================================================================|\n",
            "|  No running processes found                                                 |\n",
            "+-----------------------------------------------------------------------------+\n"
          ]
        }
      ]
    },
    {
      "cell_type": "code",
      "source": [
        "#@title Cronómetro para CPU\n",
        "\n",
        "%%writefile cpu_timer.h\n",
        "\n",
        "#include <ctime>\n",
        "#include <iostream>\n",
        "\n",
        "// estructuras para el timer en CPU ////////////////////\n",
        "\n",
        "struct timespec diff(timespec start, timespec end)\n",
        "{\n",
        "        timespec temp;\n",
        "       \tif ((end.tv_nsec-start.tv_nsec)<0) {\n",
        "                temp.tv_sec = end.tv_sec-start.tv_sec-1;\n",
        "                temp.tv_nsec = 1000000000+end.tv_nsec-start.tv_nsec;\n",
        "        } else {\n",
        "                temp.tv_sec = end.tv_sec-start.tv_sec;\n",
        "                temp.tv_nsec = end.tv_nsec-start.tv_nsec;\n",
        "        }\n",
        "        return temp;\n",
        "}\n",
        "struct cpu_timer{\n",
        "        struct timespec time1, time2;\n",
        "\t      double ms_elapsed;\n",
        "\n",
        "        cpu_timer(){\n",
        "        \ttic();\n",
        "        }\n",
        "       ~cpu_timer(){}\n",
        "\n",
        "        void tic(){\n",
        "                clock_gettime(CLOCK_PROCESS_CPUTIME_ID, &time1);\n",
        "        }\n",
        "        double tac(){\n",
        "                clock_gettime(CLOCK_PROCESS_CPUTIME_ID, &time2);\n",
        "                return(ms_elapsed=elapsed());\n",
        "        }\n",
        "        double elapsed(){\n",
        "            return (double)diff(time1,time2).tv_sec*1000 + (double)diff(time1,time2).tv_nsec*0.000001;\n",
        "        }\n",
        "};\n"
      ],
      "metadata": {
        "colab": {
          "base_uri": "https://localhost:8080/"
        },
        "id": "evja1hcuEyOz",
        "outputId": "06b0a999-03fc-4684-9a82-3b62c74772b8"
      },
      "execution_count": null,
      "outputs": [
        {
          "output_type": "stream",
          "name": "stdout",
          "text": [
            "Writing cpu_timer.h\n"
          ]
        }
      ]
    },
    {
      "cell_type": "code",
      "execution_count": null,
      "metadata": {
        "colab": {
          "base_uri": "https://localhost:8080/"
        },
        "id": "ZVHhACcP3RT_",
        "outputId": "c1657080-771f-4f88-c832-b5cf91cc5b2e"
      },
      "outputs": [
        {
          "output_type": "stream",
          "name": "stdout",
          "text": [
            "Writing MatMul.cu\n"
          ]
        }
      ],
      "source": [
        "#@title multiplicación de matrices usando 5 métodos\n",
        "\n",
        "%%writefile MatMul.cu\n",
        "\n",
        "#include<stdio.h>\n",
        "#include <cuda_runtime.h>\n",
        "#include \"cpu_timer.h\"\n",
        "#include<cublas_v2.h>\n",
        "#include<cublasXt.h>\n",
        "#include <fstream>\n",
        "\n",
        "// dimension de la matriz por default\n",
        "#define DIM\t1024\n",
        "\n",
        "// si prefiere trabajar con indices de fila y columna \n",
        "// estos macros son utiles:\n",
        "\n",
        "// C[IDX2C(i,j,M)] == valor en fila i (=0,...,Width-1) columna (j=0,1,...Height-1), row-major-C\n",
        "#define  IDX2C(i,j,ld) (((j)*(ld))+( i )) \n",
        "\n",
        "// C[IDX2F(i,j,M)] == valor en fila i (=1,...,Width) columna (j=1,...Height), column-major-F\n",
        "#define IDX2F(i,j,ld) ((((j)-1)*(ld))+((i)-1)) \n",
        "\n",
        "\n",
        "// Matrices are stored in row-major order:\n",
        "// M(row, col) = *(M.elements + row * M.width + col)\n",
        "// Matrices are stored in column-major order:\n",
        "// M(row, col) = *(M.elements + col * M.width + row)\n",
        "typedef struct {\n",
        "    int width;\n",
        "    int height;\n",
        "    float* elements;\n",
        "} Matrix;\n",
        "\n",
        "// Thread block size\n",
        "#define BLOCK_SIZE 16\n",
        "\n",
        "\n",
        "\n",
        "////////////////////////////////////////////////////////////////////////\n",
        "// Forward declaration of the matrix multiplication kernel\n",
        "__global__ void MatMulKernel(const Matrix, const Matrix, Matrix);\n",
        "__global__ void MatmulKernelshared(const Matrix, const Matrix, Matrix);\n",
        "\n",
        "// Matrix multiplication - Host code\n",
        "// Matrix dimensions are assumed to be multiples of BLOCK_SIZE\n",
        "void MatMul(const Matrix A, const Matrix B, Matrix C, int caso)\n",
        "{\n",
        "    // Load A and B to device memory\n",
        "    Matrix d_A;\n",
        "    d_A.width = A.width; d_A.height = A.height;\n",
        "    size_t size = A.width * A.height * sizeof(float);\n",
        "    cudaMalloc(&d_A.elements, size);\n",
        "    cudaMemcpy(d_A.elements, A.elements, size,\n",
        "               cudaMemcpyHostToDevice);\n",
        "    Matrix d_B;\n",
        "    d_B.width = B.width; d_B.height = B.height;\n",
        "    size = B.width * B.height * sizeof(float);\n",
        "    cudaMalloc(&d_B.elements, size);\n",
        "    cudaMemcpy(d_B.elements, B.elements, size,\n",
        "               cudaMemcpyHostToDevice);\n",
        "\n",
        "    // Allocate C in device memory\n",
        "    Matrix d_C;\n",
        "    d_C.width = C.width; d_C.height = C.height;\n",
        "    size = C.width * C.height * sizeof(float);\n",
        "    cudaMalloc(&d_C.elements, size);\n",
        "\n",
        "    // Invoke kernel\n",
        "    dim3 dimBlock(BLOCK_SIZE, BLOCK_SIZE);\n",
        "    dim3 dimGrid(B.width / dimBlock.x, A.height / dimBlock.y);\n",
        "\n",
        "\t\tif(caso==0)\n",
        "    MatMulKernel<<<dimGrid, dimBlock>>>(d_A, d_B, d_C);\n",
        "\t\telse \n",
        "    MatmulKernelshared<<<dimGrid, dimBlock>>>(d_A, d_B, d_C);\n",
        "\n",
        "    // Read C from device memory\n",
        "    cudaMemcpy(C.elements, d_C.elements, size,\n",
        "               cudaMemcpyDeviceToHost);\n",
        "\n",
        "    // Free device memory\n",
        "    cudaFree(d_A.elements);\n",
        "    cudaFree(d_B.elements);\n",
        "    cudaFree(d_C.elements);\n",
        "}\n",
        "\n",
        "\n",
        "// Matrix multiplication kernel using global memory called by MatMul()\n",
        "__global__ void MatMulKernel(Matrix A, Matrix B, Matrix C)\n",
        "{\n",
        "    // Each thread computes one element of C\n",
        "    // by accumulating results into Cvalue\n",
        "    float Cvalue = 0;\n",
        "    int row = blockIdx.y * blockDim.y + threadIdx.y;\n",
        "    int col = blockIdx.x * blockDim.x + threadIdx.x;\n",
        "\n",
        "    // En \"C-row-major\" order seria \n",
        "    /*for (int e = 0; e < A.width; ++e)\n",
        "        Cvalue += A.elements[row * A.width + e]\n",
        "                * B.elements[e * B.width + col];\n",
        "    C.elements[row * C.width + col] = Cvalue;\n",
        "    */\t\n",
        "\n",
        "    // \"column-major\" order\n",
        "    for (int e = 0; e < A.width; ++e)\n",
        "    \tCvalue += A.elements[row + e*A.height]\n",
        "        * B.elements[e + col * B.height];\n",
        "\n",
        "    C.elements[row + col * C.height] = Cvalue;\n",
        "}\n",
        "\n",
        "// Matrix multiplication kernel using shared and global memory called by MatMul()\n",
        "__global__ void MatmulKernelshared(Matrix dA, Matrix dB, Matrix dC) {\n",
        "\n",
        "\t  float *A=dA.elements;\n",
        "\t  float *B=dB.elements;\n",
        "\t  float *C=dC.elements;\n",
        "\t\tint n=dA.width;\n",
        "\n",
        "    // Declare shared memory arrays for input matrices A and B\n",
        "    __shared__ float As[BLOCK_SIZE][BLOCK_SIZE];\n",
        "    __shared__ float Bs[BLOCK_SIZE][BLOCK_SIZE];\n",
        "\n",
        "    // Compute thread and block indices\n",
        "    int bx = blockIdx.x;\n",
        "    int by = blockIdx.y;\n",
        "    int tx = threadIdx.x;\n",
        "    int ty = threadIdx.y;\n",
        "\n",
        "    // Compute row and column indices of output matrix C\n",
        "    int row = by * blockDim.y + ty;\n",
        "    int col = bx * blockDim.x + tx;\n",
        "\n",
        "    // Initialize the output element to 0\n",
        "    float Csub = 0.0;\n",
        "\n",
        "    // Loop over input matrices in blocks of size BLOCK_SIZE\n",
        "    for (int i = 0; i < n / BLOCK_SIZE; i++) {\n",
        "        // Load block of input matrix A into shared memory\n",
        "        As[ty][tx] = A[row * n + i * BLOCK_SIZE + tx];\n",
        "        // Load block of input matrix B into shared memory\n",
        "        Bs[ty][tx] = B[(i * BLOCK_SIZE + ty) * n + col];\n",
        "        // Synchronize threads to ensure all shared memory loads have completed\n",
        "        __syncthreads();\n",
        "\n",
        "        // Compute dot product of the corresponding row of A and column of B\n",
        "        for (int j = 0; j < BLOCK_SIZE; j++) {\n",
        "            Csub += As[ty][j] * Bs[j][tx];\n",
        "        }\n",
        "        // Synchronize threads to ensure all shared memory stores have completed\n",
        "        __syncthreads();\n",
        "    }\n",
        "\n",
        "    // Write the output element to global memory\n",
        "    C[row * n + col] = Csub;\n",
        "}\n",
        "\n",
        "\n",
        "\n",
        "\n",
        "// Matrix multiplication in cpu (column-major)\n",
        "void MatMulcpu(Matrix A, Matrix B, Matrix C)\n",
        "{\n",
        "    for(int row=0; row<A.width;row++){\n",
        "    \tfor(int col=0; col<A.height;col++){\n",
        "    \t\tfloat Cvalue = 0;\n",
        "    \t\tfor (int e = 0; e < A.width; ++e)\n",
        "        \t\tCvalue += A.elements[row + e*A.height]\n",
        "                \t* B.elements[e + col * B.height];\n",
        "\n",
        "    \t\tC.elements[col + row* C.width] = Cvalue;\n",
        "    \t}\n",
        "    }\n",
        "}\n",
        "\n",
        "\n",
        "\n",
        "////////////////////////////////////////////////////////////////////////\n",
        "// cublasXt API:\n",
        "// como cublas, pero recibe matrices input y output del HOST\n",
        "// se encarga de todas las alocaciones en device copias HD y DH \n",
        "void MatMulCublasXt(const Matrix A, const Matrix B, Matrix C)\n",
        "{\n",
        "\tfloat  al=1.0f;                 \n",
        "\tfloat bet =0.0f;\n",
        "\tint m=C.width;\n",
        "\n",
        "\tcublasXtHandle_t manija;\n",
        "\tcublasXtCreate(&manija);\n",
        "\n",
        "\tint devices[1] = { 0 }; \n",
        "\tcublasXtDeviceSelect(manija, 1, devices);\n",
        "\n",
        "\tcublasXtSgemm(manija,CUBLAS_OP_N,CUBLAS_OP_N,m,m,m,&al,A.elements,m,B.elements,m,&bet,C.elements,m);\n",
        "\n",
        "\tcublasXtDestroy(manija);\n",
        "}\n",
        "\n",
        "\n",
        "\n",
        "////////////////////////////////////////////////////////////////////////\n",
        "// cublas API:\n",
        "// como cublas, pero recibe matrices input y output del DEVICE\n",
        "// nos tenemos que encargar de todas las alocaciones en device y copias HD y DH \n",
        "void MatMulCublas(const Matrix A, const Matrix B, Matrix C)\n",
        "{\n",
        "    // Load A and B to device memory\n",
        "    Matrix d_A;\n",
        "    d_A.width = A.width; d_A.height = A.height;\n",
        "    size_t size = A.width * A.height * sizeof(float);\n",
        "    cudaMalloc(&d_A.elements, size);\n",
        "    //cudaMemcpy(d_A.elements, A.elements, size, cudaMemcpyHostToDevice);\n",
        "\n",
        "    Matrix d_B;\n",
        "    d_B.width = B.width; d_B.height = B.height;\n",
        "    size = B.width * B.height * sizeof(float);\n",
        "    cudaMalloc(&d_B.elements, size);\n",
        "    //cudaMemcpy(d_B.elements, B.elements, size, cudaMemcpyHostToDevice);\n",
        "\n",
        "    // Allocate C in device memory\n",
        "    Matrix d_C;\n",
        "    d_C.width = C.width; d_C.height = C.height;\n",
        "    size = C.width * C.height * sizeof(float);\n",
        "    cudaMalloc(&d_C.elements, size);\n",
        "\n",
        "\t// buena costumbre: hacer algo con los codigos de error\n",
        "    \tcublasStatus_t stat;\n",
        "\n",
        "\tfloat  al=1.0f;                 \n",
        "\tfloat bet =0.0f;\n",
        "\tint m=C.width;\n",
        "\n",
        "\tcublasHandle_t manija;\n",
        "\tstat=cublasCreate(&manija);\n",
        "\n",
        "\t// Esto:\n",
        "    \t//cudaMemcpy(A.elements, d_A.elements, size,cudaMemcpyDeviceToHost);\n",
        "\t//cudaMemcpy(B.elements, d_B.elements, size,cudaMemcpyDeviceToHost);\n",
        "\t//cudaMemcpy(C.elements, d_C.elements, size,cudaMemcpyDeviceToHost);\n",
        "\t// Es equivalente a esto:\n",
        "\tstat = cublasSetMatrix(m,m,sizeof(float),(A.elements),m,(d_A.elements) ,m);//a -> d_a\n",
        "\tstat = cublasSetMatrix(m,m,sizeof(float),(B.elements),m,(d_B.elements) ,m);//b -> d_b\n",
        "\tstat = cublasSetMatrix(m,m,sizeof(float),(C.elements),m,(d_C.elements) ,m);//c -> d_c\n",
        "\n",
        "\t// multiplication\n",
        "\tstat=cublasSgemm(manija,CUBLAS_OP_N,CUBLAS_OP_N,m,m,m,&al, d_A.elements,m,d_B.elements,m, &bet, d_C.elements,m);\n",
        "\n",
        "\t// La variable stat se puede usar asi (recomendado para todas las llamadas...)\n",
        "\tif (stat != CUBLAS_STATUS_SUCCESS)\n",
        "    \t{\n",
        "        \tfprintf(stderr, \"!!!! CUBLAS Sgemm error\\n\");\n",
        "        \texit(1);\n",
        "    \t}\n",
        "\n",
        "    \t// Hacer esto:\n",
        "    \t//cudaMemcpy(C.elements, d_C.elements, size,cudaMemcpyDeviceToHost);\n",
        "\t// es equivalente a esto:\n",
        "\tstat=cublasGetMatrix(m,m,sizeof(float),(d_C.elements) ,m,(C.elements),m);\t//d_c->c\n",
        "\n",
        "    // Free device memory\n",
        "    cublasDestroy(manija); // liberamos las \"variables ocultas\" de cublas\n",
        "    cudaFree(d_A.elements);\n",
        "    cudaFree(d_B.elements);\n",
        "    cudaFree(d_C.elements);\n",
        "}\n",
        "\n",
        "// activamos todas las APIs\n",
        "\n",
        "/*#define SIMPLECPU\n",
        "#define SIMPLECUDA\n",
        "#define CUBLAS\n",
        "#define CUBLASXt\n",
        "*/\n",
        "\n",
        "////////////////////////////////////////////////////////////////////////\n",
        "// imprime matrix C ordenada a lo \"fortran\", column-major \n",
        "void print_matrix(Matrix C,std::ofstream &fout){\n",
        "\t// para evitar imprimir demasiado, imprimimos sub-matriz de max x max\n",
        "\tint max=128;\n",
        "\tint maxheight=(C.height>max)?(max):(C.height);\n",
        "\tint maxwidth=(C.width>max)?(max):(C.width);\n",
        "\n",
        "\tint row,col;\n",
        "\tfor(row=0;row<maxheight;row++)\n",
        "\t{\n",
        "\t\tfor(col=0;col<maxwidth-1;col++)\n",
        "\t\t{\n",
        "\t\t\tfout << C.elements[row*C.width+col] << \" \";\n",
        "\t\t}\n",
        "\t\tfout << C.elements[row*C.width+col] << \"\\n\";\n",
        "\t}\n",
        "}\n",
        "\n",
        "\n",
        "////////////////////////////////////////////////////////////////////////\n",
        "int main(int argc, char **argv)\n",
        "{\n",
        "\t// Usaremos, por simplicidad, matrices cuadradas de NxN\n",
        "\t// N viene del primer argumento de la linea de comandos, sino se fija a DIM=1024 \n",
        "\tint N;\n",
        "\tif(argc>1){\n",
        "\t\tN=atoi(argv[1]);\n",
        "\t}else N=DIM;\n",
        "\n",
        "\t// matrices para hacer C=A*B\t\n",
        "        Matrix A, B, C;\n",
        "\n",
        "\t// inicializacion de las dimensiones de las matrices (cuadradas por simplicidad)\n",
        "\tA.width=B.width=C.width=A.height=B.height=C.height=N; \n",
        "\t\n",
        "    \tsize_t size = A.width * A.height * sizeof(float);\n",
        "\n",
        "\t// alocacion de matrices en el HOST\n",
        "\tA.elements=(float *)malloc(size);\n",
        "\tB.elements=(float *)malloc(size);\n",
        "\tC.elements=(float *)malloc(size);\n",
        "\n",
        "\t// inicializacion de matrices en el HOST\n",
        "\tfor(int i=0;i<A.width*A.height;i++)\n",
        "\t{\n",
        "\t\t// matriz aleatoria\n",
        "\t\tA.elements[i]=rand()*1.f/RAND_MAX;\n",
        "\t\t//B.elements[i]=rand()*1.f/RAND_MAX;\n",
        "\n",
        "\t\t// matriz identidad\n",
        "\t\tB.elements[i]=(i%(A.width+1)==0)?(1.0f):(0.0f);\n",
        "\t\tC.elements[i]=0.0f;\n",
        "\t}\n",
        "\n",
        "\tstd::ofstream foutA(\"A.dat\");\n",
        "\tstd::ofstream foutB(\"B.dat\");\n",
        "\t//print_matrix(A,foutA);\n",
        "\t//print_matrix(B,foutB);\n",
        "\n",
        "\t// objeto timer de CPU (¿porque de CPU?)\n",
        "\tcpu_timer reloj_cpu;\n",
        "\n",
        "  double tgpu,tcpu,tcublas,tcublasxt,tgpu2;\n",
        "  tgpu=tcpu=tcublas=tcublasxt=tgpu2=0;\n",
        "\n",
        "\t#ifdef SIMPLECPU\n",
        "\treloj_cpu.tic();\n",
        "\tif(N<2048) MatMulcpu(A,B,C);\n",
        "  tcpu=reloj_cpu.tac();\n",
        "\t//std::ofstream foutCPU(\"Ccpu.dat\");\n",
        "\t//print_matrix(C,foutCPU);\n",
        "\t#endif\n",
        "\n",
        "\t#if defined(SIMPLECUDA) \n",
        "\tMatMul(A,B,C,0); //warmup\n",
        "\treloj_cpu.tic();\n",
        "\tMatMul(A,B,C,0);\n",
        "  tgpu=reloj_cpu.tac();\n",
        "\t//std::ofstream foutSC(\"Ccuda.dat\");\n",
        "\t//print_matrix(C,foutSC);\n",
        "\t#endif\n",
        "\n",
        "\t#ifdef CUBLAS\n",
        "\tMatMulCublas(A,B,C); //warmup\n",
        "\treloj_cpu.tic();\n",
        "\tMatMulCublas(A,B,C);\n",
        "  tcublas=reloj_cpu.tac();\n",
        "\t//std::ofstream foutCUBLAS(\"Ccublas.dat\");\n",
        "\t//print_matrix(C,foutCUBLAS);\n",
        "\t#endif\n",
        "\n",
        "\n",
        "\t#ifdef CUBLASXt\n",
        "\tMatMulCublasXt(A,B,C); //warmup\n",
        "\treloj_cpu.tic();\n",
        "\tMatMulCublasXt(A,B,C);\n",
        "  tcublasxt=reloj_cpu.tac();\n",
        "\t//printf(\"N= %d cublasXt: %f ms\\n\", N, tcublasxt);\n",
        "\t//std::ofstream foutCUBLASXt(\"Ccublasxt.dat\");\n",
        "\t//print_matrix(C,foutCUBLASXt);\n",
        "\t#endif\n",
        "\n",
        "\t#if defined(CUDASHARED)\n",
        "\tMatMul(A,B,C,1); //warmup\n",
        "\treloj_cpu.tic();\n",
        "\tMatMul(A,B,C,1);\n",
        "  tgpu2=reloj_cpu.tac();\n",
        "\t//std::ofstream foutSC(\"Ccuda.dat\");\n",
        "\t//print_matrix(C,foutSC);\n",
        "\t#endif\n",
        "\n",
        "\n",
        "  std::cout << N << \", \" << tcpu << \", \" << tgpu << \", \" << tcublas << \", \" << tcublasxt << \",\" << tgpu2 << std::endl;  \n",
        "\n",
        "  return 0;\n",
        "}\n"
      ]
    },
    {
      "cell_type": "code",
      "source": [
        "#@title Compilamos activando todos los métodos\n",
        "!nvcc -DSIMPLECPU -DCUBLASXt -DCUBLAS -DSIMPLECUDA -DCUDASHARED -lcublas MatMul.cu -o matmul"
      ],
      "metadata": {
        "id": "4To0DRMUD3KO"
      },
      "execution_count": null,
      "outputs": []
    },
    {
      "cell_type": "code",
      "source": [
        "#@title corremos para distintos tamaños de matrices cuadradas\n",
        "!for i in 16 32 64 128 256 512 1024 2048 4096 8192; do ./matmul $i; done > tiempos.csv"
      ],
      "metadata": {
        "id": "nWYdlUi7Er6T"
      },
      "execution_count": null,
      "outputs": []
    },
    {
      "cell_type": "code",
      "source": [
        "#@title veamos los tiempos\n",
        "!cat tiempos.csv\n",
        "\n",
        "# recordar orden N ,tcpu,tgpu,tcublas,tcublasxt,tgpu2  \n"
      ],
      "metadata": {
        "colab": {
          "base_uri": "https://localhost:8080/"
        },
        "id": "OVUKg2rZFNi-",
        "outputId": "1239b29f-bee5-436c-b397-916da3835276"
      },
      "execution_count": null,
      "outputs": [
        {
          "output_type": "stream",
          "name": "stdout",
          "text": [
            "16, 0.022148, 0.253653, 0.80042, 3.63566,0.269429\n",
            "32, 0.108133, 0.205072, 0.739964, 3.4485,0.22655\n",
            "64, 0.884877, 0.236263, 0.806098, 3.50624,0.216341\n",
            "128, 10.8533, 0.467172, 1.04194, 4.0386,0.342726\n",
            "256, 100.423, 1.35381, 1.38099, 4.39675,0.694498\n",
            "512, 728.01, 7.46062, 2.27278, 4.32224,2.0907\n",
            "1024, 7691.33, 52.8969, 6.68028, 7.70856,8.39384\n",
            "2048, 0.00066, 169.898, 20.181, 25.2617,31.2773\n",
            "4096, 0.000423, 1195.21, 82.3187, 149.759,225.552\n",
            "8192, 0.000539, 9547.17, 498.205, 1075.86,1826.75\n"
          ]
        }
      ]
    },
    {
      "cell_type": "code",
      "source": [
        "#@title visualicemos los tiempos (ask chatgpt: \"Plot 6 column csv file using Python, vs first column\")\n",
        "import matplotlib.pyplot as plt\n",
        "import pandas as pd\n",
        "\n",
        "# Read the CSV file into a pandas DataFrame\n",
        "data = pd.read_csv('tiempos.csv', header=None)\n",
        "\n",
        "# Split the data into five separate columns\n",
        "col1 = data.iloc[:, 0]\n",
        "col2 = data.iloc[:, 1]\n",
        "col3 = data.iloc[:, 2]\n",
        "col4 = data.iloc[:, 3]\n",
        "col5 = data.iloc[:, 4]\n",
        "col6 = data.iloc[:, 5]\n",
        "\n",
        "# Plot the data\n",
        "plt.loglog(col1[0:7], col2[0:7], '-o',label='tcpu simple')\n",
        "plt.loglog(col1, col3,'-o', label='tgpu simple')\n",
        "plt.loglog(col1, col4, '-o',label='tcublas')\n",
        "plt.loglog(col1, col5,'-o' ,label='tcublasxt')\n",
        "plt.loglog(col1, col6,'-o' ,label='tgpu shared')\n",
        "\n",
        "# Add axis labels and legend\n",
        "plt.xlabel('N')\n",
        "plt.ylabel('tiempos [ms]')\n",
        "plt.legend()\n",
        "\n",
        "# Show the plot\n",
        "plt.show()\n"
      ],
      "metadata": {
        "colab": {
          "base_uri": "https://localhost:8080/",
          "height": 454
        },
        "id": "H_6NqezJaoTD",
        "outputId": "5bbcba46-ee2b-4a7b-d2e5-0ffbda65261c"
      },
      "execution_count": null,
      "outputs": [
        {
          "output_type": "display_data",
          "data": {
            "text/plain": [
              "<Figure size 640x480 with 1 Axes>"
            ],
            "image/png": "[encoded data removed]"
          },
          "metadata": {}
        }
      ]
    },
    {
      "cell_type": "markdown",
      "source": [
        "si quieren probar N mas grandes seria conveniente no compilar con la opción de cpu, porque toma mucho tiempo para N>2048."
      ],
      "metadata": {
        "id": "h1s4V3x6ddam"
      }
    },
    {
      "cell_type": "markdown",
      "source": [
        "## Python"
      ],
      "metadata": {
        "id": "fb7KNdXQxyQ5"
      }
    },
    {
      "cell_type": "code",
      "source": [
        "#@title multipliquemos dos matrices de 4096x4096 con numpy (cpu)\n",
        "\n",
        "import numpy as np\n",
        "import time\n",
        "\n",
        "# Set the sizes of the matrices\n",
        "m = 4096\n",
        "n = 4096\n",
        "p = 4096\n",
        "\n",
        "# Generate random matrices with the given sizes\n",
        "A = np.random.rand(m, n)\n",
        "B = np.random.rand(n, p)\n",
        "\n",
        "# Compute the matrix product with a timer\n",
        "start_time = time.time()\n",
        "C = np.dot(A, B)\n",
        "end_time = time.time()\n",
        "\n",
        "\n",
        "# Print the elapsed time\n",
        "print(\"Elapsed time: \", (end_time - start_time)*1000, \"mseconds\")\n",
        "\n",
        "# Print the matrices and their product\n",
        "#print(\"A:\\n\", A)\n",
        "#print(\"B:\\n\", B)\n",
        "#print(\"C:\\n\", C)\n"
      ],
      "metadata": {
        "colab": {
          "base_uri": "https://localhost:8080/"
        },
        "id": "TqQ1o_mxnSXZ",
        "outputId": "5450718a-5baf-468e-b036-0cffeb514e76"
      },
      "execution_count": null,
      "outputs": [
        {
          "output_type": "stream",
          "name": "stdout",
          "text": [
            "Elapsed time:  3982.3155403137207 mseconds\n"
          ]
        }
      ]
    },
    {
      "cell_type": "markdown",
      "source": [
        "notar que numpy es mucho mejor que la version naive de CPU con loops. Esto es porque numpy esta optimizado para GPU.\n",
        "\n",
        "* usa lapack y blas por debajo\n",
        "* vectoriza\n",
        "* optimiza el cache\n",
        "* paraleliza en CPU"
      ],
      "metadata": {
        "id": "AtQjsvyy5h9F"
      }
    },
    {
      "cell_type": "code",
      "source": [
        "#@title Ahora lo hacemos en gpu con cupy\n",
        "\n",
        "import cupy as cp\n",
        "import numpy as np\n",
        "import time\n",
        "\n",
        "# Set the sizes of the matrices\n",
        "m = 4096\n",
        "n = 4096\n",
        "p = 4096\n",
        "\n",
        "device = cp.cuda.Device()\n",
        "\n",
        "# Generate random matrices with the given sizes\n",
        "h_A = cp.random.rand(m, n)\n",
        "h_B = cp.random.rand(n, p)\n",
        "h_C = cp.random.rand(m, p)\n",
        "\n",
        "# alocate device memory before timming\n",
        "A = cp.asarray(h_A)\n",
        "B = cp.asarray(h_B)\n",
        "C = cp.asarray(h_C)\n",
        "\n",
        "start_time = time.time()\n",
        "\n",
        "#copies H2D\n",
        "A = cp.asarray(h_A)\n",
        "B = cp.asarray(h_B)\n",
        "#matrix multiplication\n",
        "C = cp.dot(A, B)\n",
        "\n",
        "device.synchronize()\n",
        "end_time = time.time()\n",
        "\n",
        "# Print the elapsed time\n",
        "print(\"Elapsed time: \", (end_time - start_time)*1000, \"mseconds\")\n",
        "\n",
        "\n",
        "# Print the matrices and their product\n",
        "#print(\"A:\\n\", A)\n",
        "#print(\"B:\\n\", B)\n",
        "#print(\"C:\\n\", C)\n"
      ],
      "metadata": {
        "colab": {
          "base_uri": "https://localhost:8080/"
        },
        "id": "hof-1au6ogyr",
        "outputId": "0359e7c9-8306-44ca-fe5b-79f5d14cd2b1"
      },
      "execution_count": null,
      "outputs": [
        {
          "output_type": "stream",
          "name": "stdout",
          "text": [
            "Elapsed time:  731.635332107544 mseconds\n"
          ]
        }
      ]
    },
    {
      "cell_type": "code",
      "source": [
        "#@title en gpu con cupy pero de mas bajo nivel,usando SIMPLECUDA kernel \n",
        "import cupy as cp\n",
        "import numpy as np\n",
        "import time\n",
        "\n",
        "# Define matrix sizes\n",
        "m = 4096\n",
        "n = 4096\n",
        "p = 4096\n",
        "k = 4096\n",
        "\n",
        "device = cp.cuda.Device()\n",
        "\n",
        "# Create random matrices on the GPU\n",
        "a_cpu = np.random.rand(m, n).astype(cp.float32)\n",
        "b_cpu = np.random.rand(n, k).astype(cp.float32)\n",
        "c_cpu = np.zeros((m, k)).astype(cp.float32)\n",
        "\n",
        "# Define the kernel code as a string\n",
        "kernel_code = \"\"\"\n",
        "extern \"C\" __global__ void matrix_multiply(float *a, float *b, float *c, int m, int n, int k) {\n",
        "    int row = blockIdx.y * blockDim.y + threadIdx.y;\n",
        "    int col = blockIdx.x * blockDim.x + threadIdx.x;\n",
        "\n",
        "    if (row < m && col < k) {\n",
        "        float sum = 0.0f;\n",
        "        for (int i = 0; i < n; i++) {\n",
        "            sum += a[row * n + i] * b[i * k + col];\n",
        "        }\n",
        "        c[row * k + col] = sum;\n",
        "    }\n",
        "}\n",
        "\"\"\"\n",
        "\n",
        "# Compile the kernel code into a function\n",
        "matrix_multiply = cp.RawKernel(kernel_code, 'matrix_multiply')\n",
        "\n",
        "# Define the block and grid sizes for the kernel\n",
        "block_size = (16, 16, 1)\n",
        "grid_size = ((m + block_size[0] - 1) // block_size[0], (k + block_size[1] - 1) // block_size[1], 1)\n",
        "\n",
        "a_gpu = cp.asarray(a_cpu)\n",
        "b_gpu = cp.asarray(a_cpu)\n",
        "c_gpu = cp.asarray(c_cpu)\n",
        "\n",
        "start_time = time.time()\n",
        "a_gpu = cp.asarray(a_cpu)\n",
        "b_gpu = cp.asarray(a_cpu)\n",
        "\n",
        "# Call the kernel function with the input matrices and sizes\n",
        "matrix_multiply(grid_size, block_size, (a_gpu, b_gpu, c_gpu, m, n, k))\n",
        "\n",
        "device.synchronize()\n",
        "end_time = time.time()\n",
        "\n",
        "# Print the elapsed time\n",
        "print(\"Elapsed time: \", (end_time - start_time)*1000, \"mseconds\")\n",
        "\n",
        "# Copy the result matrix back to the CPU and print it\n",
        "c_cpu = c_gpu.get()\n",
        "#print(c_cpu)\n"
      ],
      "metadata": {
        "colab": {
          "base_uri": "https://localhost:8080/"
        },
        "id": "bi3JHVfMxePI",
        "outputId": "7903ed4d-39cc-4e5b-cdde-a07870bb7335"
      },
      "execution_count": null,
      "outputs": [
        {
          "output_type": "stream",
          "name": "stdout",
          "text": [
            "Elapsed time:  603.7862300872803 mseconds\n"
          ]
        }
      ]
    },
    {
      "cell_type": "code",
      "source": [
        "#@title usando tensor flow\n",
        "\n",
        "import cupy as cp\n",
        "\n",
        "#import tensorflow as tf\n",
        "import tensorflow.compat.v1 as tf\n",
        "tf.disable_v2_behavior()\n",
        "\n",
        "\n",
        "device = cp.cuda.Device()\n",
        "\n",
        "\n",
        "# create two random matrices\n",
        "A = tf.random.normal([4096, 4096])\n",
        "B = tf.random.normal([4096, 4096])\n",
        "\n",
        "\n",
        "start_time = time.time()\n",
        "\n",
        "# multiply the matrices\n",
        "C = tf.matmul(A, B)\n",
        "\n",
        "# create a TensorFlow session\n",
        "with tf.Session() as sess:\n",
        "    # run the session to compute the result\n",
        "    result = sess.run(C)\n",
        "\n",
        "device.synchronize()\n",
        "end_time = time.time()\n",
        "\n",
        "# print the result\n",
        "#print(result)\n",
        "\n",
        "# Print the elapsed time\n",
        "print(\"Elapsed time: \", (end_time - start_time)*1000, \"mseconds\")"
      ],
      "metadata": {
        "colab": {
          "base_uri": "https://localhost:8080/"
        },
        "id": "O9XewWrHEWyG",
        "outputId": "a3d0a077-42ee-4861-9ee2-904a77475051"
      },
      "execution_count": null,
      "outputs": [
        {
          "output_type": "stream",
          "name": "stdout",
          "text": [
            "Elapsed time:  69.38743591308594 mseconds\n"
          ]
        }
      ]
    },
    {
      "cell_type": "code",
      "source": [
        "#@title profiling simplecuda con nvprof\n",
        "!nvcc -DSIMPLECUDA -lcublas MatMul.cu; nvprof ./a.out 4096"
      ],
      "metadata": {
        "colab": {
          "base_uri": "https://localhost:8080/"
        },
        "id": "POZ6NO09NRD9",
        "outputId": "eb3bbc95-eb10-4c09-a349-fa58f560d705"
      },
      "execution_count": null,
      "outputs": [
        {
          "output_type": "stream",
          "name": "stdout",
          "text": [
            "==34011== NVPROF is profiling process 34011, command: ./a.out 4096\n",
            "4096, 0, 1152.03, 0, 0,0\n",
            "==34011== Profiling application: ./a.out 4096\n",
            "==34011== Profiling result:\n",
            "            Type  Time(%)      Time     Calls       Avg       Min       Max  Name\n",
            " GPU activities:   96.26%  2.43205s         2  1.21602s  1.14114s  1.29091s  MatMulKernel(Matrix, Matrix, Matrix)\n",
            "                    2.48%  62.618ms         4  15.654ms  14.536ms  17.802ms  [CUDA memcpy HtoD]\n",
            "                    1.26%  31.921ms         2  15.960ms  15.921ms  16.000ms  [CUDA memcpy DtoH]\n",
            "      API calls:   91.83%  2.52833s         6  421.39ms  14.624ms  1.30735s  cudaMemcpy\n",
            "                    7.97%  219.35ms         6  36.558ms  298.11us  217.54ms  cudaMalloc\n",
            "                    0.19%  5.2819ms         6  880.32us  364.73us  1.1907ms  cudaFree\n",
            "                    0.00%  137.25us       101  1.3580us     134ns  60.271us  cuDeviceGetAttribute\n",
            "                    0.00%  84.333us         2  42.166us  40.967us  43.366us  cudaLaunchKernel\n",
            "                    0.00%  32.431us         1  32.431us  32.431us  32.431us  cuDeviceGetName\n",
            "                    0.00%  6.7320us         1  6.7320us  6.7320us  6.7320us  cuDeviceGetPCIBusId\n",
            "                    0.00%  1.9520us         3     650ns     183ns  1.4740us  cuDeviceGetCount\n",
            "                    0.00%     946ns         2     473ns     170ns     776ns  cuDeviceGet\n",
            "                    0.00%     483ns         1     483ns     483ns     483ns  cuDeviceTotalMem\n",
            "                    0.00%     440ns         1     440ns     440ns     440ns  cuModuleGetLoadingMode\n",
            "                    0.00%     238ns         1     238ns     238ns     238ns  cuDeviceGetUuid\n"
          ]
        }
      ]
    },
    {
      "cell_type": "markdown",
      "source": [
        "asi podemos ver en que funciones paso mas tiempo la corrida.\n",
        "\n",
        "También podemos usar profiling con nvprof y cupy."
      ],
      "metadata": {
        "id": "lkGgtIFxOqg8"
      }
    },
    {
      "cell_type": "markdown",
      "source": [
        "# ¿Qué hace cupy detras de la cortina?"
      ],
      "metadata": {
        "id": "yHVQbXo8ozYf"
      }
    },
    {
      "cell_type": "code",
      "source": [
        "%%writefile cupyMatMul.py\n",
        "\n",
        "import cupy as cp\n",
        "import numpy as np\n",
        "import time\n",
        "\n",
        "# Set the sizes of the matrices\n",
        "m = 4096\n",
        "n = 4096\n",
        "p = 4096\n",
        "\n",
        "device = cp.cuda.Device()\n",
        "\n",
        "# Generate random matrices with the given sizes\n",
        "h_A = np.random.rand(m, n)\n",
        "h_B = np.random.rand(n, p)\n",
        "h_C = np.random.rand(m, p)\n",
        "\n",
        "# alocate device memory before timming\n",
        "A = cp.asarray(h_A)\n",
        "B = cp.asarray(h_B)\n",
        "C = cp.asarray(h_C)\n",
        "\n",
        "start_time = time.time()\n",
        "\n",
        "#copies H2D\n",
        "A = cp.asarray(h_A)\n",
        "B = cp.asarray(h_B)\n",
        "#matrix multiplication\n",
        "C = cp.dot(A, B)\n",
        "\n",
        "device.synchronize()\n",
        "end_time = time.time()\n",
        "\n",
        "# Print the elapsed time\n",
        "print(\"Elapsed time: \", (end_time - start_time)*1000, \"mseconds\")\n",
        "\n"
      ],
      "metadata": {
        "colab": {
          "base_uri": "https://localhost:8080/"
        },
        "id": "DTqoUzU36oTv",
        "outputId": "32c30544-2596-4191-da8d-83459fb12bda"
      },
      "execution_count": null,
      "outputs": [
        {
          "output_type": "stream",
          "name": "stdout",
          "text": [
            "Overwriting cupyMatMul.py\n"
          ]
        }
      ]
    },
    {
      "cell_type": "code",
      "source": [
        "!cat cupyMatMul.py"
      ],
      "metadata": {
        "colab": {
          "base_uri": "https://localhost:8080/"
        },
        "id": "x0zb50hL9De6",
        "outputId": "0e0121b4-7da1-4629-c6f6-e1a7a4053b59"
      },
      "execution_count": null,
      "outputs": [
        {
          "output_type": "stream",
          "name": "stdout",
          "text": [
            "\n",
            "import cupy as cp\n",
            "import numpy as np\n",
            "import time\n",
            "\n",
            "# Set the sizes of the matrices\n",
            "m = 4096\n",
            "n = 4096\n",
            "p = 4096\n",
            "\n",
            "device = cp.cuda.Device()\n",
            "\n",
            "# Generate random matrices with the given sizes\n",
            "h_A = np.random.rand(m, n)\n",
            "h_B = np.random.rand(n, p)\n",
            "h_C = np.random.rand(m, p)\n",
            "\n",
            "# alocate device memory before timming\n",
            "A = cp.asarray(h_A)\n",
            "B = cp.asarray(h_B)\n",
            "C = cp.asarray(h_C)\n",
            "\n",
            "start_time = time.time()\n",
            "\n",
            "#copies H2D\n",
            "A = cp.asarray(h_A)\n",
            "B = cp.asarray(h_B)\n",
            "#matrix multiplication\n",
            "C = cp.dot(A, B)\n",
            "\n",
            "device.synchronize()\n",
            "end_time = time.time()\n",
            "\n",
            "# Print the elapsed time\n",
            "print(\"Elapsed time: \", (end_time - start_time)*1000, \"mseconds\")\n",
            "\n"
          ]
        }
      ]
    },
    {
      "cell_type": "code",
      "source": [
        "!nvprof --openacc-profiling off python cupyMatMul.py"
      ],
      "metadata": {
        "colab": {
          "base_uri": "https://localhost:8080/"
        },
        "id": "IQPmAIZ063hQ",
        "outputId": "7db887ba-2eb8-4daa-c941-36f0e672f87c"
      },
      "execution_count": null,
      "outputs": [
        {
          "output_type": "stream",
          "name": "stdout",
          "text": [
            "==2581== NVPROF is profiling process 2581, command: python3 cupyMatMul.py\n",
            "Elapsed time:  1426.6047477722168 mseconds\n",
            "==2581== Profiling application: python3 cupyMatMul.py\n",
            "==2581== Profiling result:\n",
            "            Type  Time(%)      Time     Calls       Avg       Min       Max  Name\n",
            " GPU activities:   92.75%  694.39ms         1  694.39ms  694.39ms  694.39ms  volta_dgemm_128x64_nn\n",
            "                    7.25%  54.283ms         5  10.857ms  10.849ms  10.870ms  [CUDA memcpy HtoD]\n",
            "      API calls:   39.52%  694.37ms         5  138.87ms  1.1270us  694.35ms  cudaDeviceSynchronize\n",
            "                   38.42%  674.94ms         5  134.99ms  27.199us  528.27ms  cudaFree\n",
            "                   15.77%  277.03ms         7  39.576ms  4.2060us  275.09ms  cudaMalloc\n",
            "                    6.21%  109.16ms         2  54.579ms  54.404ms  54.754ms  cudaHostAlloc\n",
            "                    0.03%  509.52us       768     663ns     140ns  252.93us  cuGetProcAddress\n",
            "                    0.02%  405.66us       297  1.3650us     132ns  67.592us  cuDeviceGetAttribute\n",
            "                    0.01%  125.97us         5  25.194us  16.348us  44.810us  cudaMemcpyAsync\n",
            "                    0.01%  95.108us         3  31.702us  31.033us  32.882us  cuDeviceGetName\n",
            "                    0.00%  87.064us        40  2.1760us     269ns  22.410us  cudaGetDevice\n",
            "                    0.00%  36.784us        23  1.5990us     436ns  10.479us  cudaEventCreateWithFlags\n",
            "                    0.00%  34.822us        13  2.6780us     694ns  6.5000us  cudaEventQuery\n",
            "                    0.00%  29.650us         1  29.650us  29.650us  29.650us  cudaLaunchKernel\n",
            "                    0.00%  27.796us         6  4.6320us  3.3960us  6.9370us  cudaStreamIsCapturing\n",
            "                    0.00%  22.334us         5  4.4660us  2.8940us  7.5390us  cudaEventRecord\n",
            "                    0.00%  19.738us        22     897ns     375ns  4.1610us  cudaEventDestroy\n",
            "                    0.00%  14.985us         6  2.4970us     366ns  5.0420us  cudaSetDevice\n",
            "                    0.00%  8.9930us        16     562ns     274ns  2.1400us  cudaDeviceGetAttribute\n",
            "                    0.00%  8.7670us         1  8.7670us  8.7670us  8.7670us  cuDeviceGetPCIBusId\n",
            "                    0.00%  6.1000us         4  1.5250us     390ns  4.3180us  cudaOccupancyMaxActiveBlocksPerMultiprocessor\n",
            "                    0.00%  4.6880us         2  2.3440us  2.1390us  2.5490us  cuInit\n",
            "                    0.00%  2.6810us         5     536ns     202ns  1.6040us  cuDeviceGetCount\n",
            "                    0.00%  1.6640us         3     554ns     345ns     664ns  cuDeviceTotalMem\n",
            "                    0.00%  1.4980us         4     374ns     215ns     697ns  cuDeviceGet\n",
            "                    0.00%  1.4820us         1  1.4820us  1.4820us  1.4820us  cudaGetSymbolAddress\n",
            "                    0.00%  1.0160us         3     338ns     291ns     393ns  cuDeviceGetUuid\n",
            "                    0.00%     944ns         3     314ns     215ns     417ns  cuModuleGetLoadingMode\n",
            "                    0.00%     743ns         2     371ns     168ns     575ns  cuDriverGetVersion\n",
            "                    0.00%     488ns         2     244ns     162ns     326ns  cudaGetDeviceCount\n",
            "                    0.00%     478ns         1     478ns     478ns     478ns  cudaGetLastError\n",
            "                    0.00%     279ns         1     279ns     279ns     279ns  cudaRuntimeGetVersion\n"
          ]
        }
      ]
    },
    {
      "cell_type": "markdown",
      "source": [],
      "metadata": {
        "id": "I-uLGL8gFz-K"
      }
    },
    {
      "cell_type": "code",
      "source": [
        "#@title profiling cublas con nvprof\n",
        "!nvcc -DCUBLAS -lcublas MatMul.cu; nvprof ./a.out 4096"
      ],
      "metadata": {
        "colab": {
          "base_uri": "https://localhost:8080/"
        },
        "id": "gRqVtOGE6_eD",
        "outputId": "19888bc1-5700-44b7-aa57-b3ef9aa858db"
      },
      "execution_count": null,
      "outputs": [
        {
          "output_type": "stream",
          "name": "stdout",
          "text": [
            "==34379== NVPROF is profiling process 34379, command: ./a.out 4096\n",
            "4096, 0, 0, 115.04, 0,0\n",
            "==34379== Profiling application: ./a.out 4096\n",
            "==34379== Profiling result:\n",
            "            Type  Time(%)      Time     Calls       Avg       Min       Max  Name\n",
            " GPU activities:   44.26%  94.984ms         2  47.492ms  47.489ms  47.495ms  volta_sgemm_128x64_nn\n",
            "                   41.69%  89.475ms         6  14.913ms  14.225ms  17.675ms  [CUDA memcpy HtoD]\n",
            "                   14.05%  30.154ms         2  15.077ms  15.057ms  15.097ms  [CUDA memcpy DtoH]\n",
            "      API calls:   62.33%  718.47ms        15  47.898ms  1.0870us  565.75ms  cudaFree\n",
            "                   18.88%  217.66ms         8  27.207ms  14.468ms  63.008ms  cudaMemcpy\n",
            "                   18.70%  215.49ms        12  17.958ms  4.7610us  213.98ms  cudaMalloc\n",
            "                    0.04%  420.65us       297  1.4160us     124ns  70.593us  cuDeviceGetAttribute\n",
            "                    0.02%  188.88us       768     245ns     138ns  1.4650us  cuGetProcAddress\n",
            "                    0.01%  92.169us         3  30.723us  22.665us  36.017us  cuDeviceGetName\n",
            "                    0.01%  78.790us         2  39.395us  35.859us  42.931us  cudaLaunchKernel\n",
            "                    0.00%  48.233us        36  1.3390us     429ns  17.360us  cudaEventCreateWithFlags\n",
            "                    0.00%  30.539us        36     848ns     321ns  8.7710us  cudaEventDestroy\n",
            "                    0.00%  29.803us         8  3.7250us  1.1140us  9.3250us  cudaDeviceSynchronize\n",
            "                    0.00%  21.401us        10  2.1400us     473ns  3.1530us  cudaGetLastError\n",
            "                    0.00%  20.859us         3  6.9530us     918ns  13.162us  cudaOccupancyMaxActiveBlocksPerMultiprocessor\n",
            "                    0.00%  9.7890us         4  2.4470us     434ns  5.1070us  cudaGetDevice\n",
            "                    0.00%  7.6930us         1  7.6930us  7.6930us  7.6930us  cuDeviceGetPCIBusId\n",
            "                    0.00%  6.3400us        14     452ns     281ns  1.6170us  cudaDeviceGetAttribute\n",
            "                    0.00%  6.1520us         2  3.0760us  2.8340us  3.3180us  cuInit\n",
            "                    0.00%  2.9970us         5     599ns     196ns  2.0670us  cuDeviceGetCount\n",
            "                    0.00%  2.1870us         4     546ns     165ns  1.6210us  cuDeviceGet\n",
            "                    0.00%  1.6590us         3     553ns     406ns     774ns  cuDeviceTotalMem\n",
            "                    0.00%  1.5520us         1  1.5520us  1.5520us  1.5520us  cudaGetSymbolAddress\n",
            "                    0.00%     919ns         3     306ns     199ns     487ns  cuModuleGetLoadingMode\n",
            "                    0.00%     669ns         3     223ns     188ns     250ns  cuDeviceGetUuid\n",
            "                    0.00%     363ns         2     181ns     176ns     187ns  cuDriverGetVersion\n"
          ]
        }
      ]
    },
    {
      "cell_type": "code",
      "source": [],
      "metadata": {
        "id": "o8zdTM6pF2vU"
      },
      "execution_count": null,
      "outputs": []
    }
  ]
}