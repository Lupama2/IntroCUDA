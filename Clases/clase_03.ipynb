{
 "cells": [
  {
   "attachments": {},
   "cell_type": "markdown",
   "metadata": {},
   "source": [
    "CONSEJO: NO TRABAJAR CON PUNTERO DE PUNTEROS. USAR DIRECTAMENTE ARRAYS!!!!\n",
    "Es un quilombo y no es muy eficiente"
   ]
  },
  {
   "cell_type": "code",
   "execution_count": 1,
   "metadata": {},
   "outputs": [
    {
     "name": "stdout",
     "output_type": "stream",
     "text": [
      "Microsoft Windows [Versi�n 10.0.22621.1702]\n",
      "(c) Microsoft Corporation. Todos los derechos reservados.\n",
      "\n",
      "(Maestria3) c:\\Users\\lupam\\OneDrive\\Escritorio\\GitHub\\IntroCUDA\\Clases>dir\n",
      " El volumen de la unidad C es Windows\n",
      " El n�mero de serie del volumen es: 586E-EA67\n",
      "\n",
      " Directorio de c:\\Users\\lupam\\OneDrive\\Escritorio\\GitHub\\IntroCUDA\\Clases\n",
      "\n",
      "17/05/2023  09:26    <DIR>          .\n",
      "16/05/2023  09:03    <DIR>          ..\n",
      "11/04/2023  09:49         4.342.425 0_ICNPG2023_GPGPUyCUDA.pdf\n",
      "17/05/2023  11:35         4.899.142 10_ICNPG_FFT.pdf\n",
      "12/04/2023  12:19         3.652.950 1_ICNPG2023_CUDA_SUMAVEC.pdf\n",
      "19/04/2023  12:21         1.662.959 2_ICNPG2023_CUDA_MATMUL.pdf\n",
      "25/04/2023  12:02         1.716.124 4_ICNPG2023_CUDA_REDUCCION.pdf\n",
      "28/04/2023  16:02         1.123.330 5_ICNPG2023_THRUST (1).pdf\n",
      "03/05/2023  11:28         1.851.655 6_ICNPG2023_THRUST_CONT.pdf\n",
      "09/05/2023  10:55         1.199.411 7_2_ICNPG_PYTHON.pdf\n",
      "03/05/2023  12:06           765.092 7_ICNPG_PYTHON.pdf\n",
      "10/05/2023  10:41         5.474.617 8_ICNPG_OPENACC.pdf\n",
      "16/05/2023  10:02         3.600.817 9_ICNPG_ALGEBRA.pdf\n",
      "12/04/2023  12:19             4.498 clase_02.ipynb\n",
      "21/05/2023  09:52               749 clase_03.ipynb\n",
      "              13 archivos     30.293.769 bytes\n",
      "               2 dirs  152.014.901.248 bytes libres\n",
      "\n",
      "(Maestria3) c:\\Users\\lupam\\OneDrive\\Escritorio\\GitHub\\IntroCUDA\\Clases>"
     ]
    }
   ],
   "source": [
    "%%cmd"
   ]
  },
  {
   "cell_type": "code",
   "execution_count": null,
   "metadata": {},
   "outputs": [],
   "source": []
  }
 ],
 "metadata": {
  "kernelspec": {
   "display_name": "Maestria3",
   "language": "python",
   "name": "python3"
  },
  "language_info": {
   "codemirror_mode": {
    "name": "ipython",
    "version": 3
   },
   "file_extension": ".py",
   "mimetype": "text/x-python",
   "name": "python",
   "nbconvert_exporter": "python",
   "pygments_lexer": "ipython3",
   "version": "3.11.3"
  },
  "orig_nbformat": 4
 },
 "nbformat": 4,
 "nbformat_minor": 2
}
