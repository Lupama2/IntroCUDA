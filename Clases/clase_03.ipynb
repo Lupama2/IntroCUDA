{
 "cells": [
  {
   "attachments": {},
   "cell_type": "markdown",
   "metadata": {},
   "source": [
    "CONSEJO: NO TRABAJAR CON PUNTERO DE PUNTEROS. USAR DIRECTAMENTE ARRAYS!!!!\n",
    "Es un quilombo y no es muy eficiente"
   ]
  }
 ],
 "metadata": {
  "language_info": {
   "name": "python"
  },
  "orig_nbformat": 4
 },
 "nbformat": 4,
 "nbformat_minor": 2
}
