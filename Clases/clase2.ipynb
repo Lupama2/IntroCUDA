{
 "cells": [
  {
   "attachments": {},
   "cell_type": "markdown",
   "metadata": {},
   "source": [
    "# Clase 2"
   ]
  },
  {
   "attachments": {},
   "cell_type": "markdown",
   "metadata": {},
   "source": [
    "## Ejemplo de programa\n",
    "Programa presente en Cuda_Basico/hola_mundo/hello.cu"
   ]
  },
  {
   "cell_type": "code",
   "execution_count": null,
   "metadata": {
    "vscode": {
     "languageId": "polyglot-notebook"
    }
   },
   "outputs": [],
   "source": [
    "#Ejemplo de programa\n",
    "\n",
    "/*\n",
    " * Imprime \"hola mundo\" desde 10 hilos corriendo en GPU\n",
    " */\n",
    "\n",
    "#include \"common.h\"\n",
    "#include <stdio.h>\n",
    "\n",
    "__global__ void helloFromGPU() //los kernels son siempre void y para diferenciarlo de las funciones de C se usa el decorado __global__ que solo entiende nvcc\n",
    "{\n",
    "    printf(\"hola mundo desde la GPU!\\n\");\n",
    "}\n",
    "\n",
    "\n",
    "int main(int argc, char **argv)\n",
    "{\n",
    "    printf(\"Hola mundo desde la CPU!\\n\\n\");\n",
    "\n",
    "    helloFromGPU<<<1, 10>>>();\n",
    "\t/*\n",
    "    helloDromGPU es la función. <<<1,10>>> es un decorador especial que indica cuántos <<<nro de bloques, nro de hilos por bloque>>>\n",
    "    () son los argumentos de la función. En este caso la función no necesita argumentos\n",
    "    El orden de los hilos no está determinado\n",
    "\t*/\n",
    "\n",
    "    CHECK(cudaDeviceSynchronize());\n",
    "    /*\n",
    "    Cuando enviamos un trabajo a la GPU, la CPU queda libre (no queda bloqueada) y sigue corriendo. Entonces, puede ser que llegue al return antes de que la GPU termine de correr. Así que el comando anterior es una barrera que dice \"no sigas a partir de este punto hasta que la GPU no termine\"\n",
    "    */\n",
    "    return 0;\n",
    "}"
   ]
  },
  {
   "attachments": {},
   "cell_type": "markdown",
   "metadata": {},
   "source": [
    "## Ejercicios"
   ]
  },
  {
   "attachments": {},
   "cell_type": "markdown",
   "metadata": {},
   "source": [
    "### Suma de arrays"
   ]
  },
  {
   "cell_type": "code",
   "execution_count": null,
   "metadata": {
    "vscode": {
     "languageId": "polyglot-notebook"
    }
   },
   "outputs": [],
   "source": [
    "#Suma de arrays\n",
    "\n",
    "/*\n",
    " * Suma a = vector unitario de tamaño N y b = 2*a\n",
    " */\n",
    "\n",
    "#include \"common.h\"\n",
    "#include <stdio.h>\n",
    "\n",
    "__global__ void sumaFromGPU() //los kernels son siempre void y para diferenciarlo de las funciones de C se usa el decorado __global__ que solo entiende nvcc\n",
    "{\n",
    "    printf(\"hola mundo desde la GPU!\\n\");\n",
    "}\n",
    "\n",
    "\n",
    "int main(int argc, char **argv)\n",
    "{\n",
    "    printf(\"Hola mundo desde la CPU!\\n\\n\");\n",
    "    \n",
    "    suma<<<1, 10>>>(a, b);\n",
    "\t/*\n",
    "    helloDromGPU es la función. <<<1,10>>> es un decorador especial que indica cuántos <<<nro de bloques, nro de hilos por bloque>>>\n",
    "    () son los argumentos de la función. En este caso la función no necesita argumentos\n",
    "    El orden de los hilos no está determinado\n",
    "\t*/\n",
    "\n",
    "    CHECK(cudaDeviceSynchronize());\n",
    "    /*\n",
    "    Cuando enviamos un trabajo a la GPU, la CPU queda libre (no queda bloqueada) y sigue corriendo. Entonces, puede ser que llegue al return antes de que la GPU termine de correr. Así que el comando anterior es una barrera que dice \"no sigas a partir de este punto hasta que la GPU no termine\"\n",
    "    */\n",
    "    return 0;\n",
    "}"
   ]
  },
  {
   "attachments": {},
   "cell_type": "markdown",
   "metadata": {},
   "source": [
    "En clases vimos la diferencia entre usar la gpu y la cpu al sumar vectores. Cuando el vector tiene pocos elementos conviene la cpu pero llega un punto en el que el tiempo de cómputo de la cpu y de la gpu se cruzan y el tiempo de cómputo de la gpu es menor. Para N muy grandes la gpu satura y tiene que serializar, aumentando tmb el tiempo de cómputo pero siendo aún así órdenes de magnitud menor que el de la cpu.\n",
    "\n",
    "¿Por qué importa ejecutar los programas de forma más rápida? Porque a modo gral vamos a equivocarnos, así que mejor si nos equivocamos rápido"
   ]
  }
 ],
 "metadata": {
  "language_info": {
   "name": "python"
  },
  "orig_nbformat": 4
 },
 "nbformat": 4,
 "nbformat_minor": 2
}
